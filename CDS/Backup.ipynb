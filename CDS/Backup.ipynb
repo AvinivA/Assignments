{
 "cells": [
  {
   "cell_type": "code",
   "execution_count": null,
   "id": "abf5223e",
   "metadata": {},
   "outputs": [],
   "source": [
    "# New Split algorithm\n",
    "threshold = 0.15\n",
    "split_points_x = []\n",
    "split_points_y = []\n",
    "stack = []\n",
    "def split_algorithm(curve_cordinates,start_point, end_point, start_index, end_index, is_backward):\n",
    "    \n",
    "    #print(f\"Split algo start_point {start_point} end_point {end_point} \")\n",
    "    back_done = False\n",
    "    dist_max = 0\n",
    "    \n",
    "    # Obtian the line equation\n",
    "    line_a,line_b,line_c = line_equation(start_point, end_point)\n",
    "    \n",
    "    temp_start_index = start_index\n",
    "    temp_end_index = end_index\n",
    "    \n",
    "    # For each point in the curve\n",
    "    for i in range(temp_start_index+1, temp_end_index+1):        \n",
    "        \n",
    "        # Calculate the distance and obtain the maximum distance\n",
    "        dist = distance_of_point_from_line(line_a,line_b,line_c,curve_cordinates[i])\n",
    "        \n",
    "        print(f\"Split algo start_point {start_point} end_point {end_point} curve_cordinates {curve_cordinates[i]} dist {dist} flag {is_backward}\")\n",
    "        \n",
    "        if (dist > threshold) and (dist > dist_max):             \n",
    "            dist_max = dist            \n",
    "            if (is_backward == True):\n",
    "                end_index = i            \n",
    "            else:\n",
    "                start_index = i\n",
    "                \n",
    "        if dist_max == 0:\n",
    "            start_index = end_index\n",
    "            end_index = stack.pop()\n",
    "            return\n",
    "        \n",
    "    # Store this cordinates in split_cordinates array\n",
    "    if (is_backward == True):\n",
    "        split_points_x.append(int(curve_cordinates[end_index][0]))\n",
    "        split_points_y.append(int(curve_cordinates[end_index][1]))\n",
    "        stack.append(end_index)\n",
    "        # Recursively call the split algorithm with the new cordiantes\n",
    "    split_algorithm(curve_cordinates, curve_cordinates[start_index], curve_cordinates[end_index], start_index, end_index,True )\n",
    "    \n",
    "    if (is_backward == False):\n",
    "        split_points_x.append(int(curve_cordinates[start_index][0]))\n",
    "        split_points_y.append(int(curve_cordinates[start_index][1]))\n",
    "    \n",
    "    return split_algorithm(curve_cordinates, curve_cordinates[start_index], curve_cordinates[end_index], start_index, end_index,False )\n",
    "    \n",
    "    \n",
    "    "
   ]
  }
 ],
 "metadata": {
  "kernelspec": {
   "display_name": "Python 3 (ipykernel)",
   "language": "python",
   "name": "python3"
  },
  "language_info": {
   "codemirror_mode": {
    "name": "ipython",
    "version": 3
   },
   "file_extension": ".py",
   "mimetype": "text/x-python",
   "name": "python",
   "nbconvert_exporter": "python",
   "pygments_lexer": "ipython3",
   "version": "3.9.12"
  }
 },
 "nbformat": 4,
 "nbformat_minor": 5
}
