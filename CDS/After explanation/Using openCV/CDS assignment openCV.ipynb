{
 "cells": [
  {
   "cell_type": "code",
   "execution_count": 1295,
   "id": "24b5f403",
   "metadata": {},
   "outputs": [
    {
     "name": "stdout",
     "output_type": "stream",
     "text": [
      "Requirement already satisfied: opencv-python in c:\\users\\lenovo\\anaconda3\\lib\\site-packages (4.6.0.66)\n",
      "Requirement already satisfied: numpy>=1.14.5 in c:\\users\\lenovo\\anaconda3\\lib\\site-packages (from opencv-python) (1.21.5)\n",
      "Note: you may need to restart the kernel to use updated packages.\n"
     ]
    }
   ],
   "source": [
    "pip install opencv-python"
   ]
  },
  {
   "cell_type": "code",
   "execution_count": 3,
   "id": "9952dbd8",
   "metadata": {},
   "outputs": [
    {
     "name": "stdout",
     "output_type": "stream",
     "text": [
      "Collecting mediapipe==0.8.4.0\n",
      "  Downloading mediapipe-0.8.4-cp39-cp39-win_amd64.whl (89.3 MB)\n",
      "Requirement already satisfied: attrs>=19.1.0 in c:\\users\\lenovo\\anaconda3\\lib\\site-packages (from mediapipe==0.8.4.0) (21.4.0)\n",
      "Collecting absl-py\n",
      "  Downloading absl_py-1.3.0-py3-none-any.whl (124 kB)\n",
      "Requirement already satisfied: numpy in c:\\users\\lenovo\\anaconda3\\lib\\site-packages (from mediapipe==0.8.4.0) (1.21.5)\n",
      "Requirement already satisfied: protobuf>=3.11.4 in c:\\users\\lenovo\\anaconda3\\lib\\site-packages (from mediapipe==0.8.4.0) (3.19.1)\n",
      "Requirement already satisfied: six in c:\\users\\lenovo\\anaconda3\\lib\\site-packages (from mediapipe==0.8.4.0) (1.16.0)\n",
      "Collecting opencv-contrib-python\n",
      "  Downloading opencv_contrib_python-4.6.0.66-cp36-abi3-win_amd64.whl (42.5 MB)\n",
      "Requirement already satisfied: wheel in c:\\users\\lenovo\\anaconda3\\lib\\site-packages (from mediapipe==0.8.4.0) (0.37.1)\n",
      "Installing collected packages: opencv-contrib-python, absl-py, mediapipe\n",
      "Successfully installed absl-py-1.3.0 mediapipe-0.8.4 opencv-contrib-python-4.6.0.66\n",
      "Note: you may need to restart the kernel to use updated packages.\n"
     ]
    }
   ],
   "source": [
    "pip install mediapipe==0.8.4.0"
   ]
  },
  {
   "cell_type": "code",
   "execution_count": 1,
   "id": "d168b51f",
   "metadata": {},
   "outputs": [],
   "source": [
    "import cv2\n",
    "import numpy as np\n",
    "import matplotlib.pyplot as plt\n",
    "import math"
   ]
  },
  {
   "cell_type": "code",
   "execution_count": 2,
   "id": "891c4adc",
   "metadata": {},
   "outputs": [
    {
     "data": {
      "text/plain": [
       "True"
      ]
     },
     "execution_count": 2,
     "metadata": {},
     "output_type": "execute_result"
    }
   ],
   "source": [
    "img = cv2.imread(\"hand_internet.png\")\n",
    "\n",
    "# Convert to graycsale\n",
    "img_gray = cv2.cvtColor(img, cv2.COLOR_BGR2GRAY)\n",
    "# Blur the image for better edge detection\n",
    "img_blur = cv2.GaussianBlur(img_gray, (3,3), 0)\n",
    "\n",
    "# Sobel Edge Detection\n",
    "sobelx = cv2.Sobel(src=img_blur, ddepth=cv2.CV_64F, dx=1, dy=0, ksize=5) # Sobel Edge Detection on the X axis\n",
    "sobely = cv2.Sobel(src=img_blur, ddepth=cv2.CV_64F, dx=0, dy=1, ksize=5) # Sobel Edge Detection on the Y axis\n",
    "sobelxy = cv2.Sobel(src=img_blur, ddepth=cv2.CV_64F, dx=1, dy=1, ksize=5) # Combined X and Y Sobel Edge Detection\n",
    "\n",
    "\n",
    "\n",
    "edges = cv2.Canny(image=img_blur, threshold1=10, threshold2=200) # Canny Edge Detection\n",
    "\n",
    "#img_contours, hierarchy = cv2.findContours(edges, cv2.RETR_TREE, cv2.CHAIN_APPROX_NONE)\n",
    "img_contours, hierarchy = cv2.findContours(edges, mode=cv2.RETR_EXTERNAL, method=cv2.CHAIN_APPROX_NONE)\n",
    "\n",
    "#create an empty image for contours\n",
    "img_contours_2 = np.zeros(img.shape)\n",
    "# draw the contours on the empty image\n",
    "cv2.drawContours(img_contours_2, img_contours, -1, (0,255,0), 3)\n",
    "cv2.imwrite('contours.png',img_contours_2) "
   ]
  },
  {
   "cell_type": "code",
   "execution_count": 3,
   "id": "9f794282",
   "metadata": {},
   "outputs": [],
   "source": [
    "def get_max_contour_index(img_contours):\n",
    "    dmax = 0\n",
    "    #print(len(contours))\n",
    "    for i in range(len(img_contours)):\n",
    "        d = len(img_contours[i])\n",
    "        if (d > dmax):\n",
    "            dmax = d\n",
    "            index = i\n",
    "    print(len(img_contours[index]))\n",
    "    return img_contours[index]"
   ]
  },
  {
   "cell_type": "code",
   "execution_count": 4,
   "id": "015ade15",
   "metadata": {},
   "outputs": [
    {
     "name": "stdout",
     "output_type": "stream",
     "text": [
      "4327\n",
      "4327\n"
     ]
    },
    {
     "data": {
      "text/plain": [
       "1"
      ]
     },
     "execution_count": 4,
     "metadata": {},
     "output_type": "execute_result"
    }
   ],
   "source": [
    "contours = get_max_contour_index(img_contours)\n",
    "print(len(img_contours[0]))\n",
    "img_contours\n",
    "len(img_contours)"
   ]
  },
  {
   "cell_type": "code",
   "execution_count": 5,
   "id": "846d6a93",
   "metadata": {},
   "outputs": [
    {
     "data": {
      "text/plain": [
       "array([291,   3], dtype=int32)"
      ]
     },
     "execution_count": 5,
     "metadata": {},
     "output_type": "execute_result"
    }
   ],
   "source": [
    "contours = np.vstack(contours).squeeze()\n",
    "contours[0]\n",
    "#contours.shape\n",
    "#len(contours)"
   ]
  },
  {
   "cell_type": "code",
   "execution_count": 6,
   "id": "2038be2d",
   "metadata": {},
   "outputs": [
    {
     "data": {
      "text/plain": [
       "<matplotlib.image.AxesImage at 0x28154fa0880>"
      ]
     },
     "execution_count": 6,
     "metadata": {},
     "output_type": "execute_result"
    },
    {
     "data": {
      "image/png": "[encoded data removed]",
      "text/plain": [
       "<Figure size 432x288 with 1 Axes>"
      ]
     },
     "metadata": {
      "needs_background": "light"
     },
     "output_type": "display_data"
    }
   ],
   "source": [
    "plt.imshow(img)"
   ]
  },
  {
   "cell_type": "code",
   "execution_count": 7,
   "id": "dfac4e6d",
   "metadata": {},
   "outputs": [],
   "source": [
    "#plt.imshow(contours,cmap='gray')"
   ]
  },
  {
   "cell_type": "code",
   "execution_count": 8,
   "id": "ec488f17",
   "metadata": {},
   "outputs": [],
   "source": [
    "curve_cordinates = list()\n",
    "for i in range(len(contours)):\n",
    "    curve_cordinates.append(contours[i])"
   ]
  },
  {
   "cell_type": "code",
   "execution_count": 9,
   "id": "18ac20e5",
   "metadata": {},
   "outputs": [
    {
     "data": {
      "text/plain": [
       "array([290,   4], dtype=int32)"
      ]
     },
     "execution_count": 9,
     "metadata": {},
     "output_type": "execute_result"
    }
   ],
   "source": [
    "len(curve_cordinates)\n",
    "curve_cordinates[1]"
   ]
  },
  {
   "cell_type": "code",
   "execution_count": 10,
   "id": "fead7720",
   "metadata": {},
   "outputs": [],
   "source": [
    "def plot_curve(arr_2D, show_flag):\n",
    "    x_cord = []\n",
    "    y_cord = []\n",
    "    \n",
    "    for i in range(len(arr_2D)):\n",
    "        x_cord.append(arr_2D[i][0])\n",
    "        y_cord.append(arr_2D[i][1])\n",
    "    \n",
    "    if show_flag == False:\n",
    "        plt.plot(x_cord,y_cord)\n",
    "    else:\n",
    "        plt.plot(x_cord,y_cord, marker='o')\n",
    "        #plt.plot(x_cord,y_cord)\n",
    "        plt.show()"
   ]
  },
  {
   "cell_type": "code",
   "execution_count": 11,
   "id": "6ea95799",
   "metadata": {},
   "outputs": [
    {
     "data": {
      "image/png": "[encoded data removed]",
      "text/plain": [
       "<Figure size 432x288 with 1 Axes>"
      ]
     },
     "metadata": {
      "needs_background": "light"
     },
     "output_type": "display_data"
    }
   ],
   "source": [
    "plot_curve(curve_cordinates,True)"
   ]
  },
  {
   "cell_type": "code",
   "execution_count": 12,
   "id": "faeaed45",
   "metadata": {},
   "outputs": [
    {
     "data": {
      "text/plain": [
       "array([291,   3], dtype=int32)"
      ]
     },
     "execution_count": 12,
     "metadata": {},
     "output_type": "execute_result"
    }
   ],
   "source": [
    "curve_cordinates[0]"
   ]
  },
  {
   "cell_type": "code",
   "execution_count": 13,
   "id": "85a3e3e3",
   "metadata": {},
   "outputs": [
    {
     "data": {
      "text/plain": [
       "array([292,   3], dtype=int32)"
      ]
     },
     "execution_count": 13,
     "metadata": {},
     "output_type": "execute_result"
    }
   ],
   "source": [
    "curve_cordinates[-1]"
   ]
  },
  {
   "cell_type": "code",
   "execution_count": 14,
   "id": "b3575bfa",
   "metadata": {},
   "outputs": [],
   "source": [
    "# ----------------- Split and merge ----------------------"
   ]
  },
  {
   "cell_type": "code",
   "execution_count": 15,
   "id": "3dbb53ad",
   "metadata": {},
   "outputs": [],
   "source": [
    "# Return a,b and c parameters of a line for the passed points\n",
    "def line_equation(a,b):\n",
    "    x1 = a[0]\n",
    "    y1 = a[1]\n",
    "    x2 = b[0]\n",
    "    y2 = b[1]\n",
    "    \n",
    "    #print(f\"points are ({x1},{y1}) & ({x2},{y2})\")    \n",
    "    # Todo ---------------------->> handle the vertical and horizontal lines\n",
    "    \n",
    "    # Equation of line is ax+by+c=0. with a = (y1-y2), b=(x2-x1) and c = (x1-x2)*y1-(x1)*(y1-y2)\n",
    "    # (-10,100) and (10,100)\n",
    "    a = y1 - y2\n",
    "    b = x2 - x1\n",
    "    c = (x1-x2)*y1 - (x1)*(y1-y2)\n",
    "\n",
    "    #m = (y2 - y1)/(x2 - x1)\n",
    "    #c1 = y1 - m*x1\n",
    "    #a = -m\n",
    "    #b = 1\n",
    "    #c = -c1\n",
    "    \n",
    "    return a,b,c"
   ]
  },
  {
   "cell_type": "code",
   "execution_count": 16,
   "id": "d5f767d7",
   "metadata": {},
   "outputs": [],
   "source": [
    "# Calculate the distance of a point from the line\n",
    "# parameter\n",
    "# a,b and c are of the line. \n",
    "# p point \n",
    "def distance_of_point_from_line(a,b,c,p):\n",
    "    x1 = p[0]\n",
    "    y1 = p[1]\n",
    "    \n",
    "    # distance of a point from the line is calcualted using |ax1+by1+c|/sqrt(a^2+b^2)\n",
    "    Numr = abs(a*x1 + b*y1 + c)\n",
    "    Deno = math.sqrt(a*a + b*b)\n",
    "    dist = Numr/Deno\n",
    "    #print(f\"{a},{b},{c},({x1},{y1}),{dist}\")\n",
    "    return dist"
   ]
  },
  {
   "cell_type": "code",
   "execution_count": 17,
   "id": "5135e92d",
   "metadata": {},
   "outputs": [],
   "source": [
    "critical_index = []\n",
    "\n",
    "def split_algorithm(curve_cordinates,start_index, end_index,threshold):\n",
    "    \n",
    "    # For debugging only. Delete after done.\n",
    "    #start_point = curve_cordinates[start_index]\n",
    "    #end_point = curve_cordinates[end_index]\n",
    "    \n",
    "    dist_max = 0\n",
    "    \n",
    "    # Obtian the line equation\n",
    "    line_a,line_b,line_c = line_equation(curve_cordinates[start_index], curve_cordinates[end_index])\n",
    "    \n",
    "    if (abs(start_index - end_index) == 1):\n",
    "        return\n",
    "    \n",
    "    for i in range(start_index+1, end_index):\n",
    "        \n",
    "        dist = distance_of_point_from_line(line_a,line_b,line_c,curve_cordinates[i])\n",
    "        \n",
    "        #print(f\"Split algo start_point {start_point} end_point {end_point} curve_cordinates {curve_cordinates[i]} dist {dist}\")\n",
    "        \n",
    "        if (dist > threshold) and (dist > dist_max):             \n",
    "            dist_max = dist\n",
    "            dist_max_index = i\n",
    "    \n",
    "    if dist_max == 0:\n",
    "        return\n",
    "    \n",
    "    # Append the critical point to the critical points list\n",
    "    critical_index.append(dist_max_index)\n",
    "    split_algorithm(curve_cordinates,start_index,dist_max_index,threshold)\n",
    "    split_algorithm(curve_cordinates,dist_max_index,end_index,threshold)\n",
    "    "
   ]
  },
  {
   "cell_type": "code",
   "execution_count": 18,
   "id": "18273a82",
   "metadata": {},
   "outputs": [],
   "source": [
    "critical_index.append(0)\n",
    "split_algorithm(curve_cordinates,0, len(curve_cordinates)-1,10)\n",
    "critical_index.append(len(curve_cordinates)-1)"
   ]
  },
  {
   "cell_type": "code",
   "execution_count": null,
   "id": "199442a7",
   "metadata": {},
   "outputs": [],
   "source": []
  },
  {
   "cell_type": "code",
   "execution_count": 19,
   "id": "8248a6a1",
   "metadata": {},
   "outputs": [],
   "source": [
    "critical_curve_cordinates = list()\n",
    "critical_index.sort()\n",
    "for i in range(len(critical_index)):\n",
    "    critical_curve_cordinates.append(curve_cordinates[critical_index[i]])"
   ]
  },
  {
   "cell_type": "code",
   "execution_count": 20,
   "id": "9261d971",
   "metadata": {},
   "outputs": [
    {
     "data": {
      "image/png": "[encoded data removed]",
      "text/plain": [
       "<Figure size 432x288 with 1 Axes>"
      ]
     },
     "metadata": {
      "needs_background": "light"
     },
     "output_type": "display_data"
    }
   ],
   "source": [
    "#plot_curve(curve_cordinates,False)\n",
    "\n",
    "plot_curve(critical_curve_cordinates,True)"
   ]
  },
  {
   "cell_type": "code",
   "execution_count": 21,
   "id": "cca0086b",
   "metadata": {},
   "outputs": [
    {
     "name": "stdout",
     "output_type": "stream",
     "text": [
      "4327\n",
      "40\n"
     ]
    }
   ],
   "source": [
    "print (len(curve_cordinates))\n",
    "print (len(critical_curve_cordinates))"
   ]
  },
  {
   "cell_type": "code",
   "execution_count": 22,
   "id": "cacc5936",
   "metadata": {},
   "outputs": [],
   "source": [
    "### Trying to call split and merge second time \n",
    "\n",
    "#critical_index = []\n",
    "#critical_index.append(0)\n",
    "#split_algorithm(critical_curve_cordinates,0, len(critical_curve_cordinates)-1,30)\n",
    "#critical_index.append(len(critical_curve_cordinates)-1)\n",
    "# ---------\n",
    "#len(critical_index)\n",
    "#-------\n",
    "#new_critical_curve_cordinates = list()\n",
    "#critical_index.sort()\n",
    "#for i in range(len(critical_index)):\n",
    "    #new_critical_curve_cordinates.append(critical_curve_cordinates[critical_index[i]])\n",
    "#plot_curve(new_critical_curve_cordinates,True)"
   ]
  },
  {
   "cell_type": "code",
   "execution_count": 23,
   "id": "f56d4300",
   "metadata": {},
   "outputs": [],
   "source": [
    "# ----- Merge ----"
   ]
  },
  {
   "cell_type": "code",
   "execution_count": 24,
   "id": "77edf74c",
   "metadata": {},
   "outputs": [],
   "source": [
    "def find_side_length(first_point, second_point):\n",
    "    dist = (second_point[0] - first_point[0])**2 + (second_point[1] - first_point[1])**2\n",
    "    len = math.sqrt(dist)\n",
    "    return len "
   ]
  },
  {
   "cell_type": "code",
   "execution_count": 25,
   "id": "6207294e",
   "metadata": {},
   "outputs": [],
   "source": [
    "def angle_between_lines(first_point, second_point, third_point):\n",
    "    \n",
    "    a = find_side_length(first_point,second_point)\n",
    "    b = find_side_length(second_point,third_point)\n",
    "    c= find_side_length(third_point,first_point)\n",
    "    \n",
    "    cos_theta = ((a**2) + (b**2) - (c**2)) / (2*a*b)\n",
    "    theta = math.degrees(math.acos(cos_theta))\n",
    "    #tan_theta = (a2*b1 - a1*b2)/(a1*a2 + b1*b2)\n",
    "    #theta = math.degrees(math.atan(tan_theta))\n",
    "    #if (theta < 0):\n",
    "        #theta = 360 - theta\n",
    "    return theta "
   ]
  },
  {
   "cell_type": "code",
   "execution_count": 26,
   "id": "5651573e",
   "metadata": {},
   "outputs": [],
   "source": [
    "# Merge Algo\n",
    "# Assumption- The list is already sorted and only those insignificant critical points needs to be removed\n",
    "# threshhold tan(175) = -0.0874886635\n",
    "# Threshold tan(185) = 0.087\n",
    "# tan(190) = 0.1763\n",
    "# tan(177.5) = 0.0436609429\n",
    "\n",
    "merged_critical_point = []\n",
    "# Threshold in degrees\n",
    "merge_threshold = 5\n",
    "\n",
    "\n",
    "def merge(critical_points):\n",
    "    \n",
    "    # Add the first point to the list\n",
    "    merged_critical_point.append(list(critical_points[0]))\n",
    "    \n",
    "    # -2 is done becoz each point is comapred with its next two neighbours\n",
    "    for i in range(0,len(critical_points)-2):\n",
    "        first_point = critical_points[i]\n",
    "        second_point = critical_points[i+1]\n",
    "        third_point = critical_points[i+2]\n",
    "        \n",
    "        angle_b_lines = angle_between_lines(first_point,second_point,third_point)\n",
    "        #print(f\"first_point: {first_point} Second_point: {second_point} Third_point: {third_point} angle:{angle_b_lines}\")\n",
    "        \n",
    "        if ((180-angle_b_lines) > merge_threshold):\n",
    "            merged_critical_point.append(list(second_point))\n",
    "        \n",
    "    merged_critical_point.append(list(critical_points[len(critical_points)-1]))"
   ]
  },
  {
   "cell_type": "code",
   "execution_count": 27,
   "id": "e471a7b4",
   "metadata": {},
   "outputs": [],
   "source": [
    "merge(critical_curve_cordinates)"
   ]
  },
  {
   "cell_type": "code",
   "execution_count": 28,
   "id": "9c7d8936",
   "metadata": {},
   "outputs": [
    {
     "name": "stdout",
     "output_type": "stream",
     "text": [
      "40\n",
      "40\n"
     ]
    }
   ],
   "source": [
    "print (len(merged_critical_point))\n",
    "print (len(critical_curve_cordinates))"
   ]
  },
  {
   "cell_type": "code",
   "execution_count": 29,
   "id": "1f014da7",
   "metadata": {},
   "outputs": [
    {
     "data": {
      "image/png": "[encoded data removed]",
      "text/plain": [
       "<Figure size 432x288 with 1 Axes>"
      ]
     },
     "metadata": {
      "needs_background": "light"
     },
     "output_type": "display_data"
    }
   ],
   "source": [
    "plot_curve(merged_critical_point,True)"
   ]
  },
  {
   "cell_type": "code",
   "execution_count": 30,
   "id": "fbafc20d",
   "metadata": {},
   "outputs": [],
   "source": [
    "## --- PCA -----"
   ]
  },
  {
   "cell_type": "code",
   "execution_count": 31,
   "id": "94323399",
   "metadata": {},
   "outputs": [],
   "source": [
    "mother_shape_cordinates = merged_critical_point"
   ]
  },
  {
   "cell_type": "code",
   "execution_count": 32,
   "id": "14c844ee",
   "metadata": {},
   "outputs": [
    {
     "data": {
      "text/plain": [
       "[291, 3]"
      ]
     },
     "execution_count": 32,
     "metadata": {},
     "output_type": "execute_result"
    }
   ],
   "source": [
    "mother_shape_cordinates[0]"
   ]
  },
  {
   "cell_type": "code",
   "execution_count": 33,
   "id": "ae2cca71",
   "metadata": {},
   "outputs": [
    {
     "data": {
      "text/plain": [
       "0"
      ]
     },
     "execution_count": 33,
     "metadata": {},
     "output_type": "execute_result"
    }
   ],
   "source": [
    "# ---Generate 60 odd shapes---\n",
    "number_of_hands = 8\n",
    "hand_collection = [[]]*number_of_hands\n",
    "len(hand_collection[0])"
   ]
  },
  {
   "cell_type": "code",
   "execution_count": 34,
   "id": "485a704e",
   "metadata": {},
   "outputs": [],
   "source": [
    "import random"
   ]
  },
  {
   "cell_type": "code",
   "execution_count": 35,
   "id": "a4d98060",
   "metadata": {},
   "outputs": [],
   "source": [
    "def noise_hand_cordinates():\n",
    "    #noise_values = [-1,-0.75,-0.5,-0.25,0,0.25,0.5,0.75,1]\n",
    "    noise_values = range(-15,16,1)\n",
    "    noise_cordinates = list()\n",
    "    for i in range(len(mother_shape_cordinates)):\n",
    "        noise1 = random.choice(noise_values)\n",
    "        noise2 = random.choice(noise_values)\n",
    "        noise_cordinates.append((mother_shape_cordinates[i][0]+noise1,mother_shape_cordinates[i][1]+noise2))\n",
    "    return noise_cordinates"
   ]
  },
  {
   "cell_type": "code",
   "execution_count": 36,
   "id": "d45c67cc",
   "metadata": {},
   "outputs": [],
   "source": [
    "for i in range(number_of_hands):\n",
    "       hand_collection[i] = noise_hand_cordinates()     "
   ]
  },
  {
   "cell_type": "code",
   "execution_count": 37,
   "id": "bd629e7f",
   "metadata": {},
   "outputs": [
    {
     "data": {
      "text/plain": [
       "list"
      ]
     },
     "execution_count": 37,
     "metadata": {},
     "output_type": "execute_result"
    }
   ],
   "source": [
    "type(hand_collection[0])"
   ]
  },
  {
   "cell_type": "code",
   "execution_count": 38,
   "id": "cec1048c",
   "metadata": {},
   "outputs": [
    {
     "data": {
      "image/png": "[encoded data removed]",
      "text/plain": [
       "<Figure size 432x288 with 1 Axes>"
      ]
     },
     "metadata": {
      "needs_background": "light"
     },
     "output_type": "display_data"
    }
   ],
   "source": [
    "for i in range (len(hand_collection)):\n",
    "    \n",
    "    if (i == (len(hand_collection)-1)):\n",
    "        plot_curve(hand_collection[i],True)\n",
    "    else:\n",
    "        plot_curve(hand_collection[i],False)"
   ]
  },
  {
   "cell_type": "code",
   "execution_count": 103,
   "id": "37165afa",
   "metadata": {},
   "outputs": [],
   "source": [
    "# ---- Create matrix from the list of lists ----\n",
    "# There are 40 critical points and there are 8 eight hands. Convert them into 16*40 matrix. \n",
    "# x and y cordinates stacked alternatively\n",
    "hand_collection_matrix = np.zeros((number_of_hands*2,len(hand_collection[0])))\n",
    "for i in range(len(hand_collection)): #8\n",
    "    for j in range(len(hand_collection[0])): #40\n",
    "        hand_collection_matrix[i*2][j] = hand_collection[i][j][0]\n",
    "        hand_collection_matrix[i*2+1][j] = hand_collection[i][j][1]\n",
    "        "
   ]
  },
  {
   "cell_type": "code",
   "execution_count": 104,
   "id": "7b8f133d",
   "metadata": {},
   "outputs": [],
   "source": [
    "# ---- Create matrix from the list of lists ----\n",
    "# There are 40 critical points and there are 8 eight hands. Convert them into 16*40 matrix. \n",
    "# x and y cordinates stacked alternatively\n",
    "#hand_collection_matrix_x = np.zeros((number_of_hands,len(hand_collection[0])))\n",
    "#for i in range(len(hand_collection)): #8\n",
    "    #for j in range(len(hand_collection[0])): #40\n",
    "        #hand_collection_matrix_x[i][j] = hand_collection[i][j][0]\n",
    "        #hand_collection_matrix[i*2+1][j] = hand_collection[i][j][1]"
   ]
  },
  {
   "cell_type": "code",
   "execution_count": 105,
   "id": "18a313e7",
   "metadata": {},
   "outputs": [
    {
     "data": {
      "text/plain": [
       "(16, 40)"
      ]
     },
     "execution_count": 105,
     "metadata": {},
     "output_type": "execute_result"
    }
   ],
   "source": [
    "hand_collection_matrix.shape"
   ]
  },
  {
   "cell_type": "code",
   "execution_count": 106,
   "id": "359e7d5a",
   "metadata": {},
   "outputs": [
    {
     "data": {
      "text/plain": [
       "7"
      ]
     },
     "execution_count": 106,
     "metadata": {},
     "output_type": "execute_result"
    }
   ],
   "source": [
    "hand_collection[7][0][1]"
   ]
  },
  {
   "cell_type": "code",
   "execution_count": 107,
   "id": "771110c7",
   "metadata": {},
   "outputs": [
    {
     "data": {
      "text/plain": [
       "-11.0"
      ]
     },
     "execution_count": 107,
     "metadata": {},
     "output_type": "execute_result"
    }
   ],
   "source": [
    "hand_collection_matrix[1][0]"
   ]
  },
  {
   "cell_type": "code",
   "execution_count": 108,
   "id": "7db6ede4",
   "metadata": {},
   "outputs": [
    {
     "data": {
      "text/plain": [
       "40"
      ]
     },
     "execution_count": 108,
     "metadata": {},
     "output_type": "execute_result"
    }
   ],
   "source": [
    "hand_collection_matrix.shape[1]"
   ]
  },
  {
   "cell_type": "code",
   "execution_count": 109,
   "id": "8cd44a6f",
   "metadata": {},
   "outputs": [
    {
     "name": "stdout",
     "output_type": "stream",
     "text": [
      "(40, 40)\n"
     ]
    }
   ],
   "source": [
    "cov_matrix = np.zeros((hand_collection_matrix_x.shape[1],hand_collection_matrix_x.shape[1]))\n",
    "print (cov_matrix.shape)\n",
    "cov_matrix = np.cov(hand_collection_matrix_x.transpose())"
   ]
  },
  {
   "cell_type": "code",
   "execution_count": 120,
   "id": "6e725b7c",
   "metadata": {},
   "outputs": [],
   "source": [
    "eigen_values,eigen_vectors = np.linalg.eigh(cov_matrix)"
   ]
  },
  {
   "cell_type": "code",
   "execution_count": 121,
   "id": "ee0a3f61",
   "metadata": {},
   "outputs": [
    {
     "data": {
      "text/plain": [
       "array([-9.96767569e-14, -6.42721151e-14, -6.31474778e-14, -5.56603111e-14,\n",
       "       -4.86879854e-14, -4.40942852e-14, -3.53729055e-14, -3.49194580e-14,\n",
       "       -1.98979838e-14, -1.91134483e-14, -1.52667177e-14, -1.07546749e-14,\n",
       "       -9.92359163e-15, -8.71705779e-15, -4.75105808e-15, -3.70049540e-15,\n",
       "       -2.38057297e-15,  1.86900011e-15,  3.70505246e-15,  4.37115817e-15,\n",
       "        8.47321798e-15,  1.27387762e-14,  1.27539369e-14,  1.57759105e-14,\n",
       "        1.96809467e-14,  2.50196734e-14,  2.51969798e-14,  3.07546459e-14,\n",
       "        3.36476981e-14,  3.91652870e-14,  5.00417309e-14,  5.41834273e-14,\n",
       "        5.74491266e-14,  2.00202930e+02,  3.35440153e+02,  3.77808032e+02,\n",
       "        5.09496830e+02,  5.10813351e+02,  5.48149556e+02,  6.82499863e+02])"
      ]
     },
     "execution_count": 121,
     "metadata": {},
     "output_type": "execute_result"
    }
   ],
   "source": [
    "eigen_values"
   ]
  },
  {
   "cell_type": "code",
   "execution_count": 136,
   "id": "699d210b",
   "metadata": {},
   "outputs": [
    {
     "name": "stdout",
     "output_type": "stream",
     "text": [
      "Total 40 significant 7\n"
     ]
    }
   ],
   "source": [
    "# Finding the significant eigen value's indexes\n",
    "# Search from the end as the largest values are in the end\n",
    "total_eigen_sum = np.sum(eigen_values)\n",
    "i = 1\n",
    "while(np.sum(eigen_values[-i:]) <= (0.95*total_eigen_sum)):\n",
    "    i = i+1\n",
    "print(f\"Total {len(eigen_values)} significant {i}\")"
   ]
  },
  {
   "cell_type": "code",
   "execution_count": 134,
   "id": "eeaca8a6",
   "metadata": {},
   "outputs": [
    {
     "data": {
      "text/plain": [
       "3006.1901785714285"
      ]
     },
     "execution_count": 134,
     "metadata": {},
     "output_type": "execute_result"
    }
   ],
   "source": [
    "total_eigen_sum*0.95"
   ]
  },
  {
   "cell_type": "code",
   "execution_count": 137,
   "id": "ba0b063e",
   "metadata": {},
   "outputs": [
    {
     "data": {
      "text/plain": [
       "3164.410714285714"
      ]
     },
     "execution_count": 137,
     "metadata": {},
     "output_type": "execute_result"
    }
   ],
   "source": [
    "np.sum(eigen_values[-7:])"
   ]
  },
  {
   "cell_type": "code",
   "execution_count": 139,
   "id": "2324ec57",
   "metadata": {},
   "outputs": [
    {
     "data": {
      "text/plain": [
       "array([[-0.11569528, -0.01003337,  0.06657281, ..., -0.15789778,\n",
       "        -0.09351783, -0.06053858],\n",
       "       [-0.4229321 , -0.37983418,  0.3656489 , ..., -0.03398679,\n",
       "         0.20072084,  0.18578742],\n",
       "       [ 0.54765647, -0.25132128,  0.04569436, ...,  0.00421418,\n",
       "         0.09001869,  0.18608112],\n",
       "       ...,\n",
       "       [-0.03970981, -0.06047208,  0.11424882, ...,  0.15410158,\n",
       "         0.04512218, -0.11700598],\n",
       "       [-0.00737005,  0.14977796,  0.09676362, ...,  0.29772624,\n",
       "        -0.02015967,  0.16071769],\n",
       "       [-0.07242   , -0.05967447, -0.06199262, ..., -0.15690114,\n",
       "        -0.1677551 ,  0.21517587]])"
      ]
     },
     "execution_count": 139,
     "metadata": {},
     "output_type": "execute_result"
    }
   ],
   "source": []
  },
  {
   "cell_type": "code",
   "execution_count": 140,
   "id": "9eaaab6c",
   "metadata": {},
   "outputs": [
    {
     "data": {
      "text/plain": [
       "(40, 40)"
      ]
     },
     "execution_count": 140,
     "metadata": {},
     "output_type": "execute_result"
    }
   ],
   "source": [
    "eigen_vectors.shape"
   ]
  },
  {
   "cell_type": "code",
   "execution_count": 156,
   "id": "cfb845a7",
   "metadata": {},
   "outputs": [],
   "source": [
    "sig_eigen_vectors = eigen_vectors[-i:].reshape((eigen_vectors.shape[1],i))"
   ]
  },
  {
   "cell_type": "code",
   "execution_count": 157,
   "id": "077bcf9f",
   "metadata": {},
   "outputs": [
    {
     "data": {
      "text/plain": [
       "(7, 2)"
      ]
     },
     "execution_count": 157,
     "metadata": {},
     "output_type": "execute_result"
    }
   ],
   "source": [
    "sig_eigen_values = np.hstack((eigen_values[-i:].reshape(i,1),eigen_values[-i:].reshape(i,1)))\n",
    "sig_eigen_values.shape"
   ]
  },
  {
   "cell_type": "code",
   "execution_count": 159,
   "id": "a78f4357",
   "metadata": {},
   "outputs": [
    {
     "data": {
      "text/plain": [
       "(40, 7)"
      ]
     },
     "execution_count": 159,
     "metadata": {},
     "output_type": "execute_result"
    }
   ],
   "source": [
    "sig_eigen_vectors.shape"
   ]
  },
  {
   "cell_type": "code",
   "execution_count": 163,
   "id": "3e69b421",
   "metadata": {},
   "outputs": [
    {
     "data": {
      "text/plain": [
       "16"
      ]
     },
     "execution_count": 163,
     "metadata": {},
     "output_type": "execute_result"
    }
   ],
   "source": [
    "len(hand_collection_matrix)"
   ]
  },
  {
   "cell_type": "code",
   "execution_count": 217,
   "id": "a5696606",
   "metadata": {},
   "outputs": [],
   "source": [
    "hand_collection_matrix_t = hand_collection_matrix.transpose()\n",
    "x_bar = np.zeros((len(hand_collection_matrix_t),1))\n",
    "y_bar = np.zeros((len(hand_collection_matrix_t),1))\n",
    "for i in range(hand_collection_matrix_t.shape[0]):\n",
    "    x_bar[i] = np.average(hand_collection_matrix_t[i][0::2])\n",
    "    y_bar[i] = np.average(hand_collection_matrix_t[i][1::2])"
   ]
  },
  {
   "cell_type": "code",
   "execution_count": 219,
   "id": "8b931a1b",
   "metadata": {},
   "outputs": [
    {
     "data": {
      "text/plain": [
       "(40, 1)"
      ]
     },
     "execution_count": 219,
     "metadata": {},
     "output_type": "execute_result"
    }
   ],
   "source": [
    "x_bar.shape"
   ]
  },
  {
   "cell_type": "code",
   "execution_count": 216,
   "id": "5f21a9fb",
   "metadata": {},
   "outputs": [
    {
     "data": {
      "text/plain": [
       "array([1, 3])"
      ]
     },
     "execution_count": 216,
     "metadata": {},
     "output_type": "execute_result"
    }
   ],
   "source": [
    "np.array(range(10)).reshape((2,5))[0][1::2]"
   ]
  },
  {
   "cell_type": "code",
   "execution_count": 220,
   "id": "ee1da1b5",
   "metadata": {},
   "outputs": [
    {
     "data": {
      "text/plain": [
       "array([[292.75 ],\n",
       "       [206.625],\n",
       "       [163.25 ],\n",
       "       [137.5  ],\n",
       "       [ 80.625],\n",
       "       [ 57.75 ],\n",
       "       [ 82.   ],\n",
       "       [108.375],\n",
       "       [191.25 ],\n",
       "       [203.25 ],\n",
       "       [220.25 ],\n",
       "       [197.   ],\n",
       "       [210.875],\n",
       "       [242.25 ],\n",
       "       [260.625],\n",
       "       [306.625],\n",
       "       [333.375],\n",
       "       [349.75 ],\n",
       "       [379.   ],\n",
       "       [409.5  ],\n",
       "       [425.   ],\n",
       "       [436.5  ],\n",
       "       [441.375],\n",
       "       [471.125],\n",
       "       [493.25 ],\n",
       "       [524.25 ],\n",
       "       [568.25 ],\n",
       "       [581.75 ],\n",
       "       [552.375],\n",
       "       [571.375],\n",
       "       [587.375],\n",
       "       [608.5  ],\n",
       "       [700.5  ],\n",
       "       [773.125],\n",
       "       [782.125],\n",
       "       [700.375],\n",
       "       [567.625],\n",
       "       [470.5  ],\n",
       "       [386.875],\n",
       "       [293.5  ]])"
      ]
     },
     "execution_count": 220,
     "metadata": {},
     "output_type": "execute_result"
    }
   ],
   "source": [
    "x_bar"
   ]
  },
  {
   "cell_type": "code",
   "execution_count": 221,
   "id": "4db64b16",
   "metadata": {},
   "outputs": [
    {
     "data": {
      "text/plain": [
       "array([[  2.   ],\n",
       "       [ 40.5  ],\n",
       "       [126.   ],\n",
       "       [380.875],\n",
       "       [525.5  ],\n",
       "       [629.625],\n",
       "       [651.25 ],\n",
       "       [636.25 ],\n",
       "       [434.5  ],\n",
       "       [430.5  ],\n",
       "       [433.875],\n",
       "       [782.875],\n",
       "       [818.625],\n",
       "       [819.25 ],\n",
       "       [780.5  ],\n",
       "       [516.25 ],\n",
       "       [484.625],\n",
       "       [833.625],\n",
       "       [855.75 ],\n",
       "       [836.625],\n",
       "       [800.5  ],\n",
       "       [490.125],\n",
       "       [468.   ],\n",
       "       [528.5  ],\n",
       "       [799.375],\n",
       "       [831.125],\n",
       "       [801.125],\n",
       "       [694.25 ],\n",
       "       [433.25 ],\n",
       "       [325.   ],\n",
       "       [313.   ],\n",
       "       [325.75 ],\n",
       "       [472.625],\n",
       "       [485.375],\n",
       "       [430.625],\n",
       "       [250.5  ],\n",
       "       [ 71.5  ],\n",
       "       [ 16.375],\n",
       "       [ 21.125],\n",
       "       [  1.75 ]])"
      ]
     },
     "execution_count": 221,
     "metadata": {},
     "output_type": "execute_result"
    }
   ],
   "source": [
    "y_bar"
   ]
  },
  {
   "cell_type": "code",
   "execution_count": 229,
   "id": "6083f8ec",
   "metadata": {},
   "outputs": [
    {
     "name": "stdout",
     "output_type": "stream",
     "text": [
      "[[200.20293    200.20293   ]\n",
      " [335.44015346 335.44015346]\n",
      " [377.8080316  377.8080316 ]\n",
      " [509.49682958 509.49682958]\n",
      " [510.81335087 510.81335087]\n",
      " [548.14955624 548.14955624]\n",
      " [682.49986254 682.49986254]]\n"
     ]
    },
    {
     "data": {
      "text/plain": [
       "array([[14.14930846, 14.14930846],\n",
       "       [18.31502535, 18.31502535],\n",
       "       [19.43728457, 19.43728457],\n",
       "       [22.57203645, 22.57203645],\n",
       "       [22.6011803 , 22.6011803 ],\n",
       "       [23.41259397, 23.41259397],\n",
       "       [26.12469832, 26.12469832]])"
      ]
     },
     "execution_count": 229,
     "metadata": {},
     "output_type": "execute_result"
    }
   ],
   "source": [
    "print(sig_eigen_values)\n",
    "np.sqrt(sig_eigen_values)"
   ]
  },
  {
   "cell_type": "code",
   "execution_count": 226,
   "id": "a1bcc742",
   "metadata": {},
   "outputs": [
    {
     "data": {
      "text/plain": [
       "(40, 2)"
      ]
     },
     "execution_count": 226,
     "metadata": {},
     "output_type": "execute_result"
    }
   ],
   "source": [
    "mean_matrix = np.hstack((x_bar,y_bar))\n",
    "mean_matrix.shape"
   ]
  },
  {
   "cell_type": "code",
   "execution_count": 284,
   "id": "5417122f",
   "metadata": {},
   "outputs": [],
   "source": [
    "final_shapes_matrix = mean_matrix + np.matmul(sig_eigen_vectors,-5*np.sqrt(sig_eigen_values))"
   ]
  },
  {
   "cell_type": "code",
   "execution_count": 285,
   "id": "fa1fca6c",
   "metadata": {},
   "outputs": [
    {
     "data": {
      "text/plain": [
       "(40, 7)"
      ]
     },
     "execution_count": 285,
     "metadata": {},
     "output_type": "execute_result"
    }
   ],
   "source": [
    "sig_eigen_vectors.shape"
   ]
  },
  {
   "cell_type": "code",
   "execution_count": 286,
   "id": "42331308",
   "metadata": {},
   "outputs": [
    {
     "data": {
      "text/plain": [
       "(7, 2)"
      ]
     },
     "execution_count": 286,
     "metadata": {},
     "output_type": "execute_result"
    }
   ],
   "source": [
    "np.sqrt(sig_eigen_values).shape"
   ]
  },
  {
   "cell_type": "code",
   "execution_count": 287,
   "id": "e917a115",
   "metadata": {},
   "outputs": [
    {
     "data": {
      "text/plain": [
       "(40, 2)"
      ]
     },
     "execution_count": 287,
     "metadata": {},
     "output_type": "execute_result"
    }
   ],
   "source": [
    "mean_matrix.shape"
   ]
  },
  {
   "cell_type": "code",
   "execution_count": 288,
   "id": "82f4580c",
   "metadata": {},
   "outputs": [
    {
     "data": {
      "text/plain": [
       "(40, 2)"
      ]
     },
     "execution_count": 288,
     "metadata": {},
     "output_type": "execute_result"
    }
   ],
   "source": [
    "final_shapes_matrix.shape"
   ]
  },
  {
   "cell_type": "code",
   "execution_count": 289,
   "id": "7ce782e2",
   "metadata": {},
   "outputs": [],
   "source": [
    "final_curve = list()\n",
    "for i in range(len(final_shapes_matrix)):\n",
    "    final_curve.append((final_shapes_matrix[i][0],final_shapes_matrix[i][1]))"
   ]
  },
  {
   "cell_type": "code",
   "execution_count": 290,
   "id": "95137542",
   "metadata": {},
   "outputs": [
    {
     "data": {
      "image/png": "[encoded data removed]",
      "text/plain": [
       "<Figure size 432x288 with 1 Axes>"
      ]
     },
     "metadata": {
      "needs_background": "light"
     },
     "output_type": "display_data"
    }
   ],
   "source": [
    "\n",
    "plot_curve(final_curve,True)"
   ]
  },
  {
   "cell_type": "code",
   "execution_count": null,
   "id": "f852bbe9",
   "metadata": {},
   "outputs": [],
   "source": []
  }
 ],
 "metadata": {
  "kernelspec": {
   "display_name": "Python 3 (ipykernel)",
   "language": "python",
   "name": "python3"
  },
  "language_info": {
   "codemirror_mode": {
    "name": "ipython",
    "version": 3
   },
   "file_extension": ".py",
   "mimetype": "text/x-python",
   "name": "python",
   "nbconvert_exporter": "python",
   "pygments_lexer": "ipython3",
   "version": "3.9.12"
  }
 },
 "nbformat": 4,
 "nbformat_minor": 5
}
