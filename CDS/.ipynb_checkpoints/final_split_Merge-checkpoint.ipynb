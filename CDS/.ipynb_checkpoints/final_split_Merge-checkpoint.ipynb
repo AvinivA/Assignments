{
 "cells": [
  {
   "cell_type": "code",
   "execution_count": 116,
   "id": "abf5223e",
   "metadata": {},
   "outputs": [],
   "source": [
    "import matplotlib.pyplot as plt\n",
    "import numpy as np\n",
    "import math"
   ]
  },
  {
   "cell_type": "code",
   "execution_count": 117,
   "id": "6bf49022",
   "metadata": {},
   "outputs": [],
   "source": [
    "curve_cordinates = []"
   ]
  },
  {
   "cell_type": "code",
   "execution_count": 202,
   "id": "4686a99f",
   "metadata": {},
   "outputs": [],
   "source": [
    "def create_curve():\n",
    "    x = np.arange(-10,11,1)\n",
    "    for i in x:\n",
    "        curve_cordinates.append([i,i**2])\n",
    "\n",
    "curve_cordinates = []\n",
    "create_curve()"
   ]
  },
  {
   "cell_type": "code",
   "execution_count": 203,
   "id": "e10774d3",
   "metadata": {},
   "outputs": [],
   "source": [
    "def plot_curve(arr_2D, show_flag):\n",
    "    x_cord = []\n",
    "    y_cord = []\n",
    "    \n",
    "    for i in range(len(arr_2D)):\n",
    "        x_cord.append(arr_2D[i][0])\n",
    "        y_cord.append(arr_2D[i][1])\n",
    "    \n",
    "    if show_flag == False:\n",
    "        plt.plot(x_cord,y_cord)\n",
    "    else:\n",
    "        plt.plot(x_cord,y_cord, marker='o')\n",
    "        plt.show()"
   ]
  },
  {
   "cell_type": "code",
   "execution_count": 204,
   "id": "1008bb19",
   "metadata": {},
   "outputs": [
    {
     "data": {
      "image/png": "[encoded data removed]",
      "text/plain": [
       "<Figure size 432x288 with 1 Axes>"
      ]
     },
     "metadata": {
      "needs_background": "light"
     },
     "output_type": "display_data"
    }
   ],
   "source": [
    "plot_curve(curve_cordinates,True)"
   ]
  },
  {
   "cell_type": "code",
   "execution_count": 205,
   "id": "288f3221",
   "metadata": {},
   "outputs": [
    {
     "data": {
      "text/plain": [
       "[10, 100]"
      ]
     },
     "execution_count": 205,
     "metadata": {},
     "output_type": "execute_result"
    }
   ],
   "source": [
    "curve_cordinates[20]"
   ]
  },
  {
   "cell_type": "code",
   "execution_count": 206,
   "id": "4600aa95",
   "metadata": {},
   "outputs": [],
   "source": [
    "# Return a,b and c parameters of a line for the passed points\n",
    "def line_equation(a,b):\n",
    "    x1 = a[0]\n",
    "    y1 = a[1]\n",
    "    x2 = b[0]\n",
    "    y2 = b[1]\n",
    "    \n",
    "    #print(f\"points are ({x1},{y1}) & ({x2},{y2})\")    \n",
    "    # Todo ---------------------->> handle the vertical and horizontal lines\n",
    "    \n",
    "    # Equation of line is ax+by+c=0. with a = (y2-y1), b=(x1-x2) and c = ax1+by1\n",
    "    # (-10,100) and (10,100)\n",
    "    #a = y2 - y1\n",
    "    #b = x1 - x2\n",
    "   # c = a*x1 + b*y1\n",
    "\n",
    "    m = (y2 - y1)/(x2 - x1)\n",
    "    c1 = y1 - m*x1\n",
    "    a = -m\n",
    "    b = 1\n",
    "    c = -c1\n",
    "    \n",
    "    return a,b,c\n",
    "    "
   ]
  },
  {
   "cell_type": "code",
   "execution_count": 207,
   "id": "67a76ecb",
   "metadata": {},
   "outputs": [],
   "source": [
    "# Calculate the distance of a point from the line\n",
    "# parameter\n",
    "# a,b and c are of the line. \n",
    "# p point \n",
    "def distance_of_point_from_line(a,b,c,p):\n",
    "    x1 = p[0]\n",
    "    y1 = p[1]\n",
    "    \n",
    "    # distance of a point from the line is calcualted using |ax1+by1+c|/sqrt(a^2+b^2)\n",
    "    Numr = abs(a*x1 + b*y1 + c)\n",
    "    Deno = math.sqrt(a*a + b*b)\n",
    "    dist = Numr/Deno\n",
    "    #print(f\"{a},{b},{c},({x1},{y1}),{dist}\")\n",
    "    return dist"
   ]
  },
  {
   "cell_type": "code",
   "execution_count": 208,
   "id": "7a3b045f",
   "metadata": {},
   "outputs": [],
   "source": [
    "threshold = 0.5\n",
    "critical_points = []\n",
    "\n",
    "def split_algorithm(curve_cordinates,start_index, end_index):\n",
    "    \n",
    "    # For debugging only. Delete after done.\n",
    "    #start_point = curve_cordinates[start_index]\n",
    "    #end_point = curve_cordinates[end_index]\n",
    "    \n",
    "    dist_max = 0\n",
    "    \n",
    "    # Obtian the line equation\n",
    "    line_a,line_b,line_c = line_equation(curve_cordinates[start_index], curve_cordinates[end_index])\n",
    "    \n",
    "    if (abs(start_index - end_index) == 1):\n",
    "        return\n",
    "    \n",
    "    for i in range(start_index+1, end_index):\n",
    "        \n",
    "        dist = distance_of_point_from_line(line_a,line_b,line_c,curve_cordinates[i])\n",
    "        \n",
    "        #print(f\"Split algo start_point {start_point} end_point {end_point} curve_cordinates {curve_cordinates[i]} dist {dist}\")\n",
    "        \n",
    "        if (dist > threshold) and (dist > dist_max):             \n",
    "            dist_max = dist\n",
    "            dist_max_index = i\n",
    "    \n",
    "    if dist_max == 0:\n",
    "        return\n",
    "    \n",
    "    # Append the critical point to the critical points list\n",
    "    critical_points.append(curve_cordinates[dist_max_index])\n",
    "    split_algorithm(curve_cordinates,start_index,dist_max_index)\n",
    "    split_algorithm(curve_cordinates,dist_max_index,end_index)\n",
    "    \n",
    "    \n",
    "    "
   ]
  },
  {
   "cell_type": "code",
   "execution_count": 209,
   "id": "fa1bdcd1",
   "metadata": {},
   "outputs": [],
   "source": [
    "critical_points.append(curve_cordinates[0])\n",
    "split_algorithm(curve_cordinates,0, len(curve_cordinates)-1)\n",
    "critical_points.append(curve_cordinates[len(curve_cordinates)-1])"
   ]
  },
  {
   "cell_type": "code",
   "execution_count": 210,
   "id": "6d07dee7",
   "metadata": {},
   "outputs": [
    {
     "data": {
      "text/plain": [
       "array([[-10, 100],\n",
       "       [  0,   0],\n",
       "       [ -5,  25],\n",
       "       [ -3,   9],\n",
       "       [ -2,   4],\n",
       "       [  5,  25],\n",
       "       [  2,   4],\n",
       "       [ 10, 100]])"
      ]
     },
     "execution_count": 210,
     "metadata": {},
     "output_type": "execute_result"
    }
   ],
   "source": [
    "critical_points = np.array(critical_points)\n",
    "critical_points"
   ]
  },
  {
   "cell_type": "code",
   "execution_count": 215,
   "id": "74a1b7fd",
   "metadata": {},
   "outputs": [
    {
     "data": {
      "text/plain": [
       "array([[-10, 100],\n",
       "       [ -5,  25],\n",
       "       [ -3,   9],\n",
       "       [ -2,   4],\n",
       "       [  0,   0],\n",
       "       [  2,   4],\n",
       "       [  5,  25],\n",
       "       [ 10, 100]])"
      ]
     },
     "execution_count": 215,
     "metadata": {},
     "output_type": "execute_result"
    }
   ],
   "source": [
    "critical_points = critical_points[critical_points[:, 0].argsort()]\n",
    "critical_points"
   ]
  },
  {
   "cell_type": "code",
   "execution_count": 216,
   "id": "0f5d3800",
   "metadata": {},
   "outputs": [
    {
     "data": {
      "image/png": "[encoded data removed]",
      "text/plain": [
       "<Figure size 432x288 with 1 Axes>"
      ]
     },
     "metadata": {
      "needs_background": "light"
     },
     "output_type": "display_data"
    }
   ],
   "source": [
    "plot_curve(curve_cordinates,False)\n",
    "plot_curve(critical_points,True)"
   ]
  },
  {
   "cell_type": "code",
   "execution_count": null,
   "id": "e0b73f26",
   "metadata": {},
   "outputs": [],
   "source": [
    "\n",
    "        \n",
    "        \n",
    "        "
   ]
  },
  {
   "cell_type": "code",
   "execution_count": 226,
   "id": "061d5c29",
   "metadata": {},
   "outputs": [],
   "source": [
    "# Merge Algo\n",
    "# Assumption- The list is already sorted and only those insignificant critical points needs to be removed\n",
    "# threshhold tan(175) = -0.0874886635\n",
    "# Threshold tan(185) = 0.087\n",
    "# tan(190) = 0.1763\n",
    "\n",
    "merged_critical_point = []\n",
    "merge_threshold = 0.0874\n",
    "\n",
    "def merge(critical_points):\n",
    "    \n",
    "    # -2 is done becoz each point is comapred with its next two neighbours\n",
    "    for i in range(0,len(critical_points)-2):\n",
    "        first_point = critical_points[i]\n",
    "        second_point = critical_points[i+1]\n",
    "        third_point = critical_points[i+2]\n",
    "        \n",
    "        a1,b1,c1 = line_equation(first_point,second_point)\n",
    "        a2,b2,c2 = line_equation(second_point,third_point)\n",
    "        \n",
    "        # tan (theta) = (a2*b1 - a1*b2)/(a1*a2 + b1*b2)\n",
    "        angle_between_line = (a2*b1 - a1*b2)/(a1*a2 + b1*b2)\n",
    "        print(f\"first_point: {first_point} Second_point: {second_point} Third_point: {third_point} angle:{angle_between_line}\")\n",
    "        \n",
    "        merged_critical_point.append(list(first_point))\n",
    "        \n",
    "        if (abs(angle_between_line) > merge_threshold):\n",
    "            merged_critical_point.append(list(second_point))\n",
    "        \n",
    "        merged_critical_point.append(list(third_point))"
   ]
  },
  {
   "cell_type": "code",
   "execution_count": 227,
   "id": "c78922e2",
   "metadata": {},
   "outputs": [
    {
     "name": "stdout",
     "output_type": "stream",
     "text": [
      "first_point: [-10 100] Second_point: [-5 25] Third_point: [-3  9] angle:-0.05785123966942149\n",
      "first_point: [-5 25] Second_point: [-3  9] Third_point: [-2  4] angle:-0.07317073170731707\n",
      "first_point: [-3  9] Second_point: [-2  4] Third_point: [0 0] angle:-0.2727272727272727\n",
      "first_point: [-2  4] Second_point: [0 0] Third_point: [2 4] angle:1.3333333333333333\n",
      "first_point: [0 0] Second_point: [2 4] Third_point: [ 5 25] angle:-0.3333333333333333\n",
      "first_point: [2 4] Second_point: [ 5 25] Third_point: [ 10 100] angle:-0.07547169811320754\n"
     ]
    }
   ],
   "source": [
    "merge(critical_points)"
   ]
  },
  {
   "cell_type": "code",
   "execution_count": 228,
   "id": "cc7128e9",
   "metadata": {},
   "outputs": [
    {
     "data": {
      "text/plain": [
       "array([[-10, 100],\n",
       "       [ -5,  25],\n",
       "       [ -3,   9],\n",
       "       [ -2,   4],\n",
       "       [  0,   0],\n",
       "       [  2,   4],\n",
       "       [  5,  25],\n",
       "       [ 10, 100]])"
      ]
     },
     "execution_count": 228,
     "metadata": {},
     "output_type": "execute_result"
    }
   ],
   "source": [
    "critical_points"
   ]
  },
  {
   "cell_type": "code",
   "execution_count": 230,
   "id": "acaab8a0",
   "metadata": {},
   "outputs": [],
   "source": [
    "merged_critical_point = critical_points"
   ]
  },
  {
   "cell_type": "code",
   "execution_count": 233,
   "id": "e2f8eb76",
   "metadata": {},
   "outputs": [],
   "source": [
    "merged_critical_point[0][1] = 55"
   ]
  },
  {
   "cell_type": "code",
   "execution_count": 234,
   "id": "5c31dfb9",
   "metadata": {},
   "outputs": [
    {
     "data": {
      "text/plain": [
       "array([[-10,  55],\n",
       "       [ -5,  25],\n",
       "       [ -3,   9],\n",
       "       [ -2,   4],\n",
       "       [  0,   0],\n",
       "       [  2,   4],\n",
       "       [  5,  25],\n",
       "       [ 10, 100]])"
      ]
     },
     "execution_count": 234,
     "metadata": {},
     "output_type": "execute_result"
    }
   ],
   "source": [
    "merged_critical_point"
   ]
  },
  {
   "cell_type": "code",
   "execution_count": 235,
   "id": "1ad58651",
   "metadata": {},
   "outputs": [
    {
     "data": {
      "text/plain": [
       "array([[-10,  55],\n",
       "       [ -5,  25],\n",
       "       [ -3,   9],\n",
       "       [ -2,   4],\n",
       "       [  0,   0],\n",
       "       [  2,   4],\n",
       "       [  5,  25],\n",
       "       [ 10, 100]])"
      ]
     },
     "execution_count": 235,
     "metadata": {},
     "output_type": "execute_result"
    }
   ],
   "source": [
    "critical_points"
   ]
  },
  {
   "cell_type": "code",
   "execution_count": 237,
   "id": "0d911fda",
   "metadata": {},
   "outputs": [
    {
     "ename": "ValueError",
     "evalue": "cannot delete array elements",
     "output_type": "error",
     "traceback": [
      "\u001b[1;31m---------------------------------------------------------------------------\u001b[0m",
      "\u001b[1;31mValueError\u001b[0m                                Traceback (most recent call last)",
      "Input \u001b[1;32mIn [237]\u001b[0m, in \u001b[0;36m<cell line: 1>\u001b[1;34m()\u001b[0m\n\u001b[1;32m----> 1\u001b[0m \u001b[38;5;28;01mdel\u001b[39;00m(merged_critical_point[\u001b[38;5;241m1\u001b[39m])\n",
      "\u001b[1;31mValueError\u001b[0m: cannot delete array elements"
     ]
    }
   ],
   "source": [
    "del"
   ]
  },
  {
   "cell_type": "code",
   "execution_count": null,
   "id": "996790df",
   "metadata": {},
   "outputs": [],
   "source": []
  }
 ],
 "metadata": {
  "kernelspec": {
   "display_name": "Python 3 (ipykernel)",
   "language": "python",
   "name": "python3"
  },
  "language_info": {
   "codemirror_mode": {
    "name": "ipython",
    "version": 3
   },
   "file_extension": ".py",
   "mimetype": "text/x-python",
   "name": "python",
   "nbconvert_exporter": "python",
   "pygments_lexer": "ipython3",
   "version": "3.9.12"
  }
 },
 "nbformat": 4,
 "nbformat_minor": 5
}
