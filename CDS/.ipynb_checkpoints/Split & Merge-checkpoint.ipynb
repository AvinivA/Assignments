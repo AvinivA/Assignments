{
 "cells": [
  {
   "cell_type": "code",
   "execution_count": 99,
   "id": "10ad60c6",
   "metadata": {},
   "outputs": [],
   "source": [
    "import matplotlib.pyplot as plt\n",
    "import numpy as np\n",
    "import math"
   ]
  },
  {
   "cell_type": "code",
   "execution_count": 161,
   "id": "e714891a",
   "metadata": {},
   "outputs": [],
   "source": [
    "# For simplicity choose 21 points\n",
    "number_of_points = 21\n",
    "#distance_threshold = 70\n",
    "\n",
    "# Create a simple parabola\n",
    "x = np.arange(-10,11,1)\n",
    "y = x**2"
   ]
  },
  {
   "cell_type": "code",
   "execution_count": 101,
   "id": "c4d97a35",
   "metadata": {},
   "outputs": [],
   "source": [
    "def create_cordinates(x,y,number_of_points):\n",
    "    x = x.reshape((number_of_points,1))\n",
    "    y = y.reshape((number_of_points,1))\n",
    "    return np.concatenate((x,y),axis=1)"
   ]
  },
  {
   "cell_type": "code",
   "execution_count": 102,
   "id": "97f53560",
   "metadata": {},
   "outputs": [],
   "source": [
    "def print_points_with_index(arr):\n",
    "    for (x,y) in arr:\n",
    "        print(f\"({x},{y})\")"
   ]
  },
  {
   "cell_type": "code",
   "execution_count": 110,
   "id": "e2af4267",
   "metadata": {},
   "outputs": [],
   "source": [
    "def plot_curve(arr_2D):\n",
    "    plt.plot(arr_2D[:,0],arr_2D[:,1])\n",
    "    plt.show()"
   ]
  },
  {
   "cell_type": "code",
   "execution_count": 141,
   "id": "bf13790a",
   "metadata": {},
   "outputs": [],
   "source": [
    "# Return a,b and c parameters of a line for the passed points\n",
    "def line_equation(a,b):\n",
    "    x1 = a[0]\n",
    "    y1 = a[1]\n",
    "    x2 = b[0]\n",
    "    y2 = b[1]\n",
    "    \n",
    "    print(f\"points are ({x1},{y1}) & ({x2},{y2})\")    \n",
    "    # Todo ---------------------->> handle the vertical and horizontal lines\n",
    "    \n",
    "    # Equation of line is ax+by+c=0. with a = (y2-y1), b=(x1-x2) and c = ax1+by1\n",
    "    # (-10,100) and (10,100)\n",
    "    #a = y2 - y1\n",
    "    #b = x1 - x2\n",
    "   # c = a*x1 + b*y1\n",
    "\n",
    "    m = (y2 - y1)/(x2 - x1)\n",
    "    c1 = y1 - m*x1\n",
    "    a = -m\n",
    "    b = 1\n",
    "    c = -c1\n",
    "    \n",
    "    return a,b,c\n",
    "    "
   ]
  },
  {
   "cell_type": "code",
   "execution_count": 142,
   "id": "d545d7e0",
   "metadata": {},
   "outputs": [
    {
     "name": "stdout",
     "output_type": "stream",
     "text": [
      "points are (-10,100) & (10,100)\n"
     ]
    },
    {
     "data": {
      "text/plain": [
       "(-0.0, 1, -100.0)"
      ]
     },
     "execution_count": 142,
     "metadata": {},
     "output_type": "execute_result"
    }
   ],
   "source": [
    "line_equation([-10,100],[10,100])"
   ]
  },
  {
   "cell_type": "code",
   "execution_count": 138,
   "id": "d79814d0",
   "metadata": {},
   "outputs": [],
   "source": [
    "# Calculate the distance of a point from the line\n",
    "# parameter\n",
    "# a,b and c are of the line. \n",
    "# p point \n",
    "def distance_of_point_from_line(a,b,c,p):\n",
    "    x1 = p[0]\n",
    "    y1 = p[1]\n",
    "    \n",
    "    # distance of a point from the line is calcualted using |ax1+by1+c|/sqrt(a^2+b^2)\n",
    "    Numr = abs(a*x1 + b*y1 + c)\n",
    "    Deno = math.sqrt(a*a + b*b)\n",
    "    dist = Numr/Deno\n",
    "    print(f\"{a},{b},{c},({x1},{y1}),{dist}\")\n",
    "    return dist"
   ]
  },
  {
   "cell_type": "code",
   "execution_count": 113,
   "id": "0365fbb4",
   "metadata": {},
   "outputs": [
    {
     "name": "stdout",
     "output_type": "stream",
     "text": [
      "<class 'numpy.ndarray'> <class 'numpy.ndarray'>\n"
     ]
    }
   ],
   "source": [
    "print(type(x),type(y))\n",
    "curve_cordinates = create_cordinates(x,y,number_of_points)"
   ]
  },
  {
   "cell_type": "code",
   "execution_count": 114,
   "id": "5160860e",
   "metadata": {},
   "outputs": [
    {
     "name": "stdout",
     "output_type": "stream",
     "text": [
      "(-10,100)\n",
      "(-9,81)\n",
      "(-8,64)\n",
      "(-7,49)\n",
      "(-6,36)\n",
      "(-5,25)\n",
      "(-4,16)\n",
      "(-3,9)\n",
      "(-2,4)\n",
      "(-1,1)\n",
      "(0,0)\n",
      "(1,1)\n",
      "(2,4)\n",
      "(3,9)\n",
      "(4,16)\n",
      "(5,25)\n",
      "(6,36)\n",
      "(7,49)\n",
      "(8,64)\n",
      "(9,81)\n",
      "(10,100)\n"
     ]
    }
   ],
   "source": [
    "print_points_with_index(curve_cordinates)"
   ]
  },
  {
   "cell_type": "code",
   "execution_count": 115,
   "id": "e1c4ac11",
   "metadata": {},
   "outputs": [
    {
     "data": {
      "image/png": "[encoded data removed]",
      "text/plain": [
       "<Figure size 432x288 with 1 Axes>"
      ]
     },
     "metadata": {
      "needs_background": "light"
     },
     "output_type": "display_data"
    }
   ],
   "source": [
    "plot_curve(curve_cordinates)"
   ]
  },
  {
   "cell_type": "code",
   "execution_count": 119,
   "id": "5b91cd55",
   "metadata": {},
   "outputs": [],
   "source": [
    "# Use this to append point to the list\n",
    "split_points_x.append(int(curve_cordinates[0][0]))\n",
    "split_points_y.append(int(curve_cordinates[0][1]))\n",
    "split_cordinates = create_cordinates(np.array(split_points_x),np.array(split_points_y),len(split_points_x))"
   ]
  },
  {
   "cell_type": "code",
   "execution_count": 162,
   "id": "b8c541af",
   "metadata": {},
   "outputs": [
    {
     "name": "stdout",
     "output_type": "stream",
     "text": [
      "points are (-10,100) & (10,100)\n",
      "-0.0,1,-100.0,(-9,81),19.0\n",
      "-0.0,1,-100.0,(-8,64),36.0\n",
      "-0.0,1,-100.0,(-7,49),51.0\n",
      "-0.0,1,-100.0,(-6,36),64.0\n",
      "-0.0,1,-100.0,(-5,25),75.0\n",
      "75.0\n",
      "-0.0,1,-100.0,(-4,16),84.0\n",
      "84.0\n",
      "-0.0,1,-100.0,(-3,9),91.0\n",
      "91.0\n",
      "-0.0,1,-100.0,(-2,4),96.0\n",
      "96.0\n",
      "-0.0,1,-100.0,(-1,1),99.0\n",
      "99.0\n",
      "-0.0,1,-100.0,(0,0),100.0\n",
      "100.0\n",
      "-0.0,1,-100.0,(1,1),99.0\n",
      "99.0\n",
      "-0.0,1,-100.0,(2,4),96.0\n",
      "96.0\n",
      "-0.0,1,-100.0,(3,9),91.0\n",
      "91.0\n",
      "-0.0,1,-100.0,(4,16),84.0\n",
      "84.0\n",
      "-0.0,1,-100.0,(5,25),75.0\n",
      "75.0\n",
      "-0.0,1,-100.0,(6,36),64.0\n",
      "-0.0,1,-100.0,(7,49),51.0\n",
      "-0.0,1,-100.0,(8,64),36.0\n",
      "-0.0,1,-100.0,(9,81),19.0\n"
     ]
    }
   ],
   "source": [
    "# Append the first points to the split curve\n",
    "split_points_x = []\n",
    "split_points_y = []\n",
    "distance_threshold = 70\n",
    "split_points_x.append(int(curve_cordinates[0][0]))\n",
    "split_points_y.append(int(curve_cordinates[0][1]))\n",
    "end_point_index = number_of_points - 1\n",
    "\n",
    "line_a,line_b,line_c = line_equation(curve_cordinates[0],curve_cordinates[end_point_index])\n",
    "i=1\n",
    "for i in range(1,number_of_points-1) :\n",
    "    p_dist = distance_of_point_from_line(line_a,line_b,line_c,curve_cordinates[i])\n",
    "    if (p_dist > distance_threshold):\n",
    "        print(p_dist)\n",
    "        split_points_x.append(int(curve_cordinates[i][0]))\n",
    "        split_points_y.append(int(curve_cordinates[i][1]))\n",
    "\n",
    "split_points_x.append(int(curve_cordinates[end_point_index][0]))\n",
    "split_points_y.append(int(curve_cordinates[end_point_index][1]))\n",
    "    "
   ]
  },
  {
   "cell_type": "code",
   "execution_count": 163,
   "id": "dd705166",
   "metadata": {},
   "outputs": [],
   "source": [
    "split_cordinates = create_cordinates(np.array(split_points_x),np.array(split_points_y),len(split_points_x))"
   ]
  },
  {
   "cell_type": "code",
   "execution_count": 164,
   "id": "c303ef7d",
   "metadata": {},
   "outputs": [
    {
     "data": {
      "image/png": "[encoded data removed]",
      "text/plain": [
       "<Figure size 432x288 with 1 Axes>"
      ]
     },
     "metadata": {
      "needs_background": "light"
     },
     "output_type": "display_data"
    }
   ],
   "source": [
    "plot_curve(split_cordinates)"
   ]
  },
  {
   "cell_type": "code",
   "execution_count": 165,
   "id": "e909f30b",
   "metadata": {},
   "outputs": [
    {
     "data": {
      "image/png": "[encoded data removed]",
      "text/plain": [
       "<Figure size 432x288 with 1 Axes>"
      ]
     },
     "metadata": {
      "needs_background": "light"
     },
     "output_type": "display_data"
    }
   ],
   "source": [
    "plot_curve(curve_cordinates)"
   ]
  },
  {
   "cell_type": "code",
   "execution_count": null,
   "id": "a7a9f026",
   "metadata": {},
   "outputs": [],
   "source": [
    "print(curve_cordinates.shape)"
   ]
  },
  {
   "cell_type": "code",
   "execution_count": 158,
   "id": "9a141622",
   "metadata": {},
   "outputs": [
    {
     "name": "stdout",
     "output_type": "stream",
     "text": [
      "(17, 2)\n"
     ]
    }
   ],
   "source": [
    "print(split_cordinates.shape)"
   ]
  },
  {
   "cell_type": "code",
   "execution_count": null,
   "id": "89834007",
   "metadata": {},
   "outputs": [],
   "source": []
  }
 ],
 "metadata": {
  "kernelspec": {
   "display_name": "Python 3 (ipykernel)",
   "language": "python",
   "name": "python3"
  },
  "language_info": {
   "codemirror_mode": {
    "name": "ipython",
    "version": 3
   },
   "file_extension": ".py",
   "mimetype": "text/x-python",
   "name": "python",
   "nbconvert_exporter": "python",
   "pygments_lexer": "ipython3",
   "version": "3.9.12"
  }
 },
 "nbformat": 4,
 "nbformat_minor": 5
}
