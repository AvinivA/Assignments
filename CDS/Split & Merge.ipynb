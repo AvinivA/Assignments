{
 "cells": [
  {
   "cell_type": "code",
   "execution_count": 50,
   "id": "10ad60c6",
   "metadata": {},
   "outputs": [],
   "source": [
    "import matplotlib.pyplot as plt\n",
    "import numpy as np\n",
    "import math"
   ]
  },
  {
   "cell_type": "code",
   "execution_count": 51,
   "id": "e714891a",
   "metadata": {},
   "outputs": [],
   "source": [
    "# For simplicity choose 21 points\n",
    "number_of_points = 21\n",
    "#distance_threshold = 70\n",
    "curve_cordinates = [[]]\n",
    "split_points_x = []\n",
    "split_points_y = []\n",
    "\n",
    "# Create a simple parabola\n",
    "x = np.arange(-10,11,1)\n",
    "y = x**2"
   ]
  },
  {
   "cell_type": "code",
   "execution_count": 52,
   "id": "c4d97a35",
   "metadata": {},
   "outputs": [],
   "source": [
    "def create_cordinates(x,y):\n",
    "    x = x.reshape((len(x),1))\n",
    "    y = y.reshape((len(y),1))\n",
    "    return np.concatenate((x,y),axis=1)"
   ]
  },
  {
   "cell_type": "code",
   "execution_count": 53,
   "id": "97f53560",
   "metadata": {},
   "outputs": [],
   "source": [
    "def print_points_with_index(arr):\n",
    "    for (x,y) in arr:\n",
    "        print(f\"({x},{y})\")"
   ]
  },
  {
   "cell_type": "code",
   "execution_count": 54,
   "id": "e2af4267",
   "metadata": {},
   "outputs": [],
   "source": [
    "def plot_curve(arr_2D, show_flag):\n",
    "    plt.plot(arr_2D[:,0],arr_2D[:,1], marker='o')\n",
    "    if (show_flag == True):\n",
    "        plt.show()"
   ]
  },
  {
   "cell_type": "code",
   "execution_count": 55,
   "id": "bf13790a",
   "metadata": {},
   "outputs": [],
   "source": [
    "# Return a,b and c parameters of a line for the passed points\n",
    "def line_equation(a,b):\n",
    "    x1 = a[0]\n",
    "    y1 = a[1]\n",
    "    x2 = b[0]\n",
    "    y2 = b[1]\n",
    "    \n",
    "    #print(f\"points are ({x1},{y1}) & ({x2},{y2})\")    \n",
    "    # Todo ---------------------->> handle the vertical and horizontal lines\n",
    "    \n",
    "    # Equation of line is ax+by+c=0. with a = (y2-y1), b=(x1-x2) and c = ax1+by1\n",
    "    # (-10,100) and (10,100)\n",
    "    #a = y2 - y1\n",
    "    #b = x1 - x2\n",
    "   # c = a*x1 + b*y1\n",
    "\n",
    "    m = (y2 - y1)/(x2 - x1)\n",
    "    c1 = y1 - m*x1\n",
    "    a = -m\n",
    "    b = 1\n",
    "    c = -c1\n",
    "    \n",
    "    return a,b,c\n",
    "    "
   ]
  },
  {
   "cell_type": "code",
   "execution_count": 56,
   "id": "d545d7e0",
   "metadata": {},
   "outputs": [],
   "source": [
    "#line_equation([-10,100],[10,100])"
   ]
  },
  {
   "cell_type": "code",
   "execution_count": 57,
   "id": "d79814d0",
   "metadata": {},
   "outputs": [],
   "source": [
    "# Calculate the distance of a point from the line\n",
    "# parameter\n",
    "# a,b and c are of the line. \n",
    "# p point \n",
    "def distance_of_point_from_line(a,b,c,p):\n",
    "    x1 = p[0]\n",
    "    y1 = p[1]\n",
    "    \n",
    "    # distance of a point from the line is calcualted using |ax1+by1+c|/sqrt(a^2+b^2)\n",
    "    Numr = abs(a*x1 + b*y1 + c)\n",
    "    Deno = math.sqrt(a*a + b*b)\n",
    "    dist = Numr/Deno\n",
    "    #print(f\"{a},{b},{c},({x1},{y1}),{dist}\")\n",
    "    return dist"
   ]
  },
  {
   "cell_type": "code",
   "execution_count": 58,
   "id": "fd32c788",
   "metadata": {},
   "outputs": [],
   "source": [
    "# Define class stack\n",
    "class My_Stack:\n",
    "    \n",
    "    def __init__(self):\n",
    "        self.stack = [[ ]]\n",
    "        self.stack_x = []\n",
    "        self.stack_y = []\n",
    "    \n",
    "    def push(self,cord_data):\n",
    "        self.stack_x.append(cord_data[0])\n",
    "        self.stack_y.append(cord_data[1])\n",
    "    \n",
    "    def pop(self):\n",
    "        tmp_x = []\n",
    "        tmp_y = []\n",
    "        tmp_x = self.stack_x.pop()\n",
    "        tmp_y = self.stack_y.pop()\n",
    "        return create_cordinates(np.array(tmp_x),np.array(tmp_y))"
   ]
  },
  {
   "cell_type": "code",
   "execution_count": 10,
   "id": "0365fbb4",
   "metadata": {},
   "outputs": [],
   "source": [
    "'''\n",
    "st = My_Stack()\n",
    "\n",
    "st.push(curve_cordinates[0])\n",
    "st.pop()\n",
    "'''\n",
    "pass"
   ]
  },
  {
   "cell_type": "code",
   "execution_count": 11,
   "id": "5160860e",
   "metadata": {},
   "outputs": [],
   "source": [
    "#print_points_with_index(curve_cordinates)"
   ]
  },
  {
   "cell_type": "code",
   "execution_count": 59,
   "id": "e1c4ac11",
   "metadata": {},
   "outputs": [
    {
     "data": {
      "image/png": "[encoded data removed]",
      "text/plain": [
       "<Figure size 432x288 with 1 Axes>"
      ]
     },
     "metadata": {
      "needs_background": "light"
     },
     "output_type": "display_data"
    }
   ],
   "source": [
    "curve_cordinates = create_cordinates(x,y)\n",
    "plot_curve(curve_cordinates,False)"
   ]
  },
  {
   "cell_type": "code",
   "execution_count": 60,
   "id": "5b91cd55",
   "metadata": {},
   "outputs": [],
   "source": [
    "# Use this to append point to the list\n",
    "'''\n",
    "split_points_x.append(int(curve_cordinates[0][0]))\n",
    "split_points_y.append(int(curve_cordinates[0][1]))\n",
    "split_cordinates = create_cordinates(np.array(split_points_x),np.array(split_points_y),len(split_points_x))\n",
    "'''\n",
    "pass\n"
   ]
  },
  {
   "cell_type": "code",
   "execution_count": 61,
   "id": "b8c541af",
   "metadata": {},
   "outputs": [],
   "source": [
    "'''\n",
    "# Append the first points to the split curve\n",
    "split_points_x = []\n",
    "split_points_y = []\n",
    "distance_threshold = 70\n",
    "split_points_x.append(int(curve_cordinates[0][0]))\n",
    "split_points_y.append(int(curve_cordinates[0][1]))\n",
    "end_point_index = number_of_points - 1\n",
    "\n",
    "line_a,line_b,line_c = line_equation(curve_cordinates[0],curve_cordinates[end_point_index])\n",
    "i=1\n",
    "for i in range(1,number_of_points-1) :\n",
    "    p_dist = distance_of_point_from_line(line_a,line_b,line_c,curve_cordinates[i])\n",
    "    if (p_dist > distance_threshold):\n",
    "        print(p_dist)\n",
    "        split_points_x.append(int(curve_cordinates[i][0]))\n",
    "        split_points_y.append(int(curve_cordinates[i][1]))\n",
    "\n",
    "split_points_x.append(int(curve_cordinates[end_point_index][0]))\n",
    "split_points_y.append(int(curve_cordinates[end_point_index][1]))\n",
    "'''\n",
    "pass"
   ]
  },
  {
   "cell_type": "code",
   "execution_count": 62,
   "id": "dd705166",
   "metadata": {},
   "outputs": [],
   "source": [
    "#split_cordinates = create_cordinates(np.array(split_points_x),np.array(split_points_y),len(split_points_x))"
   ]
  },
  {
   "cell_type": "code",
   "execution_count": 63,
   "id": "c303ef7d",
   "metadata": {},
   "outputs": [],
   "source": [
    "#plot_curve(split_cordinates)"
   ]
  },
  {
   "cell_type": "code",
   "execution_count": 64,
   "id": "e909f30b",
   "metadata": {},
   "outputs": [],
   "source": [
    "#plot_curve(curve_cordinates)"
   ]
  },
  {
   "cell_type": "code",
   "execution_count": 65,
   "id": "a7a9f026",
   "metadata": {},
   "outputs": [
    {
     "name": "stdout",
     "output_type": "stream",
     "text": [
      "[ 10 100]\n",
      "(2,)\n",
      "100\n"
     ]
    },
    {
     "data": {
      "text/plain": [
       "21"
      ]
     },
     "execution_count": 65,
     "metadata": {},
     "output_type": "execute_result"
    }
   ],
   "source": [
    "#print(curve_cordinates)\n",
    "#print(curve_cordinates[0])\n",
    "#print(len(curve_cordinates))\n",
    "temp = curve_cordinates[0]\n",
    "print(curve_cordinates[20])\n",
    "print(temp.shape)\n",
    "print(temp[1])\n",
    "len(curve_cordinates)"
   ]
  },
  {
   "cell_type": "code",
   "execution_count": 49,
   "id": "89834007",
   "metadata": {},
   "outputs": [
    {
     "ename": "SyntaxError",
     "evalue": "invalid syntax (2119996274.py, line 70)",
     "output_type": "error",
     "traceback": [
      "\u001b[1;36m  Input \u001b[1;32mIn [49]\u001b[1;36m\u001b[0m\n\u001b[1;33m    if split_algorithm(curve_cordinates,end_index, stack.pop(),True)\u001b[0m\n\u001b[1;37m                                                                    ^\u001b[0m\n\u001b[1;31mSyntaxError\u001b[0m\u001b[1;31m:\u001b[0m invalid syntax\n"
     ]
    }
   ],
   "source": [
    "'''\n",
    "# New Split algorithm -> Backup\n",
    "threshold = 0.5\n",
    "split_points_x = []\n",
    "split_points_y = []\n",
    "stack = []\n",
    "def split_algorithm(curve_cordinates,start_index, end_index, is_backward):\n",
    "    \n",
    "    start_point = curve_cordinates[start_index]\n",
    "    end_point = curve_cordinates[end_index]\n",
    "    #print(f\"Split algo start_point {start_point} end_point {end_point} \")\n",
    "    #back_done = False\n",
    "    dist_max = 0\n",
    "    \n",
    "    # Obtian the line equation\n",
    "    line_a,line_b,line_c = line_equation(start_point, end_point)\n",
    "    \n",
    "    temp_start_index = start_index\n",
    "    temp_end_index = end_index\n",
    "    \n",
    "    if ((temp_start_index - temp_end_index) == 1):\n",
    "        return 10\n",
    "    \n",
    "    # For each point in the curve\n",
    "    for i in range(temp_start_index+1, temp_end_index):        \n",
    "        \n",
    "        # Calculate the distance and obtain the maximum distance\n",
    "        dist = distance_of_point_from_line(line_a,line_b,line_c,curve_cordinates[i])\n",
    "        \n",
    "        print(f\"Split algo start_point {start_point} end_point {end_point} curve_cordinates {curve_cordinates[i]} dist {dist} flag {is_backward}\")\n",
    "        \n",
    "        if (dist > threshold) and (dist > dist_max):             \n",
    "            dist_max = dist            \n",
    "            if (is_backward == True):\n",
    "                end_index = i            \n",
    "            else:\n",
    "                start_index = i\n",
    "                \n",
    "        if dist_max == 0 and i == temp_end_index-1:\n",
    "            #stack.append(temp_end_index)\n",
    "            # Transition from backward to forward\n",
    "            #print(f\"stack dist_max append {temp_end_index}\")\n",
    "            if (is_backward == True):\n",
    "                split_algorithm(curve_cordinates,end_index,stack.pop(), False)\n",
    "            return 10\n",
    "        \n",
    "    # Store this cordinates in split_cordinates array\n",
    "    if (is_backward == True):\n",
    "        split_points_x.append(int(curve_cordinates[end_index][0]))\n",
    "        split_points_y.append(int(curve_cordinates[end_index][1]))\n",
    "        print (f\"Stack Index: {temp_end_index}\")\n",
    "        stack.append(temp_end_index)        \n",
    "        # Recursively call the split algorithm with the new cordiantes\n",
    "        #if split_algorithm(curve_cordinates,start_index, end_index,True ) == 10:\n",
    "           # start_index = stack.pop()\n",
    "            #end_index = stack.pop()\n",
    "           # print(f\"Poped {start_index} and {end_index}\")\n",
    "           # split_algorithm(curve_cordinates,start_index, end_index,False )\n",
    "        split_algorithm(curve_cordinates,start_index, end_index,True)\n",
    "    \n",
    "    if (is_backward == False):\n",
    "        split_points_x.append(int(curve_cordinates[start_index][0]))\n",
    "        split_points_y.append(int(curve_cordinates[start_index][1]))\n",
    "        if (temp_start_index != start_index):\n",
    "            print(f\"Forward Stack append: {temp_end_index}\")\n",
    "            stack.append(temp_end_index)\n",
    "            return split_algorithm(curve_cordinates, temp_start_index, end_index, True) # Check if return is needed\n",
    "        #start_index = temp_end_index\n",
    "        #if (len(stack) == 1):\n",
    "            #if (split_algorithm(curve_cordinates,end_index, stack.pop(),True) == 10)\n",
    "            if split_algorithm(curve_cordinates,end_index, stack.pop(),True)\n",
    "            if (ret == 10):    \n",
    "                start_index = stack.pop()\n",
    "                print(f\"Poped {start_index} Forward\")               \n",
    "        end_index = stack.pop()\n",
    "        print(f\"poped {end_index} Forward\")\n",
    "        split_algorithm(curve_cordinates,start_index, end_index,False)\n",
    "        \n",
    "    '''\n",
    "pass"
   ]
  },
  {
   "cell_type": "code",
   "execution_count": 87,
   "id": "0494ef72",
   "metadata": {},
   "outputs": [],
   "source": [
    "# New Split algorithm -> new implementation\n",
    "threshold = 0.5\n",
    "split_points_x = []\n",
    "split_points_y = []\n",
    "stack = []\n",
    "def split_algorithm(curve_cordinates,start_index, end_index, is_backward):\n",
    "    \n",
    "    start_point = curve_cordinates[start_index]\n",
    "    end_point = curve_cordinates[end_index]\n",
    "    #print(f\"Split algo start_point {start_point} end_point {end_point} \")\n",
    "    #back_done = False\n",
    "    dist_max = 0\n",
    "    \n",
    "    # Obtian the line equation\n",
    "    line_a,line_b,line_c = line_equation(start_point, end_point)\n",
    "    \n",
    "    temp_start_index = start_index\n",
    "    temp_end_index = end_index\n",
    "    \n",
    "    if (abs(temp_start_index - temp_end_index) == 1):\n",
    "        start_index = end_index\n",
    "        if (len(stack)) == 0:\n",
    "            return\n",
    "        end_index = stack.pop()\n",
    "        print(f\"poped {end_index}\")\n",
    "        split_algorithm(curve_cordinates,start_index, end_index,False)\n",
    "    \n",
    "    # For each point in the curve\n",
    "    for i in range(temp_start_index+1, temp_end_index):        \n",
    "        \n",
    "        # Calculate the distance and obtain the maximum distance\n",
    "        dist = distance_of_point_from_line(line_a,line_b,line_c,curve_cordinates[i])\n",
    "        \n",
    "        print(f\"Split algo start_point {start_point} end_point {end_point} curve_cordinates {curve_cordinates[i]} dist {dist} flag {is_backward}\")\n",
    "        \n",
    "        if (dist > threshold) and (dist > dist_max):             \n",
    "            dist_max = dist\n",
    "            dist_max_index = i\n",
    "            \n",
    "        if (dist_max > threshold) and (i == temp_end_index-1):\n",
    "            end_index = dist_max_index\n",
    "            \n",
    "            # ---- To do--- Insert the element in the sorted manner pair wise\n",
    "            #split_points_x.append(int(curve_cordinates[end_index][0]))\n",
    "            #split_points_y.append(int(curve_cordinates[end_index][1]))\n",
    "            #insert_sorted(split_points_x,int(curve_cordinates[end_index][0]))\n",
    "            #insert_sorted(split_points_x,int(curve_cordinates[end_index][1]))\n",
    "            \n",
    "            print (f\"Stack Index: {temp_end_index}\")\n",
    "            stack.append(temp_end_index) \n",
    "            split_algorithm(curve_cordinates,start_index, end_index,True)\n",
    "                \n",
    "                \n",
    "        if dist_max == 0 and i == temp_end_index-1:\n",
    "            start_index = end_index\n",
    "            if (len(stack)) == 0:\n",
    "                return\n",
    "            end_index = stack.pop()\n",
    "            print(f\"poped {end_index}\")\n",
    "            split_algorithm(curve_cordinates,start_index, end_index,False)\n",
    "    "
   ]
  },
  {
   "cell_type": "code",
   "execution_count": 88,
   "id": "1607a978",
   "metadata": {},
   "outputs": [
    {
     "name": "stdout",
     "output_type": "stream",
     "text": [
      "Split algo start_point [-10 100] end_point [ 10 100] curve_cordinates [-9 81] dist 19.0 flag True\n",
      "Split algo start_point [-10 100] end_point [ 10 100] curve_cordinates [-8 64] dist 36.0 flag True\n",
      "Split algo start_point [-10 100] end_point [ 10 100] curve_cordinates [-7 49] dist 51.0 flag True\n",
      "Split algo start_point [-10 100] end_point [ 10 100] curve_cordinates [-6 36] dist 64.0 flag True\n",
      "Split algo start_point [-10 100] end_point [ 10 100] curve_cordinates [-5 25] dist 75.0 flag True\n",
      "Split algo start_point [-10 100] end_point [ 10 100] curve_cordinates [-4 16] dist 84.0 flag True\n",
      "Split algo start_point [-10 100] end_point [ 10 100] curve_cordinates [-3  9] dist 91.0 flag True\n",
      "Split algo start_point [-10 100] end_point [ 10 100] curve_cordinates [-2  4] dist 96.0 flag True\n",
      "Split algo start_point [-10 100] end_point [ 10 100] curve_cordinates [-1  1] dist 99.0 flag True\n",
      "Split algo start_point [-10 100] end_point [ 10 100] curve_cordinates [0 0] dist 100.0 flag True\n",
      "Split algo start_point [-10 100] end_point [ 10 100] curve_cordinates [1 1] dist 99.0 flag True\n",
      "Split algo start_point [-10 100] end_point [ 10 100] curve_cordinates [2 4] dist 96.0 flag True\n",
      "Split algo start_point [-10 100] end_point [ 10 100] curve_cordinates [3 9] dist 91.0 flag True\n",
      "Split algo start_point [-10 100] end_point [ 10 100] curve_cordinates [ 4 16] dist 84.0 flag True\n",
      "Split algo start_point [-10 100] end_point [ 10 100] curve_cordinates [ 5 25] dist 75.0 flag True\n",
      "Split algo start_point [-10 100] end_point [ 10 100] curve_cordinates [ 6 36] dist 64.0 flag True\n",
      "Split algo start_point [-10 100] end_point [ 10 100] curve_cordinates [ 7 49] dist 51.0 flag True\n",
      "Split algo start_point [-10 100] end_point [ 10 100] curve_cordinates [ 8 64] dist 36.0 flag True\n",
      "Split algo start_point [-10 100] end_point [ 10 100] curve_cordinates [ 9 81] dist 19.0 flag True\n",
      "Stack Index: 20\n",
      "Split algo start_point [-10 100] end_point [0 0] curve_cordinates [-9 81] dist 0.8955334711889903 flag True\n",
      "Split algo start_point [-10 100] end_point [0 0] curve_cordinates [-8 64] dist 1.5920595043359826 flag True\n",
      "Split algo start_point [-10 100] end_point [0 0] curve_cordinates [-7 49] dist 2.089578099440977 flag True\n",
      "Split algo start_point [-10 100] end_point [0 0] curve_cordinates [-6 36] dist 2.388089256503974 flag True\n",
      "Split algo start_point [-10 100] end_point [0 0] curve_cordinates [-5 25] dist 2.487592975524973 flag True\n",
      "Split algo start_point [-10 100] end_point [0 0] curve_cordinates [-4 16] dist 2.388089256503974 flag True\n",
      "Split algo start_point [-10 100] end_point [0 0] curve_cordinates [-3  9] dist 2.089578099440977 flag True\n",
      "Split algo start_point [-10 100] end_point [0 0] curve_cordinates [-2  4] dist 1.5920595043359826 flag True\n",
      "Split algo start_point [-10 100] end_point [0 0] curve_cordinates [-1  1] dist 0.8955334711889903 flag True\n",
      "Stack Index: 10\n",
      "Split algo start_point [-10 100] end_point [-5 25] curve_cordinates [-9 81] dist 0.2660760420950957 flag True\n",
      "Split algo start_point [-10 100] end_point [-5 25] curve_cordinates [-8 64] dist 0.3991140631426436 flag True\n",
      "Split algo start_point [-10 100] end_point [-5 25] curve_cordinates [-7 49] dist 0.3991140631426436 flag True\n",
      "Split algo start_point [-10 100] end_point [-5 25] curve_cordinates [-6 36] dist 0.2660760420950957 flag True\n",
      "poped 10\n",
      "Split algo start_point [-5 25] end_point [0 0] curve_cordinates [-4 16] dist 0.7844645405527362 flag False\n",
      "Split algo start_point [-5 25] end_point [0 0] curve_cordinates [-3  9] dist 1.1766968108291043 flag False\n",
      "Split algo start_point [-5 25] end_point [0 0] curve_cordinates [-2  4] dist 1.1766968108291043 flag False\n",
      "Split algo start_point [-5 25] end_point [0 0] curve_cordinates [-1  1] dist 0.7844645405527362 flag False\n",
      "Stack Index: 10\n",
      "Split algo start_point [-5 25] end_point [-3  9] curve_cordinates [-4 16] dist 0.12403473458920847 flag True\n",
      "poped 10\n",
      "Split algo start_point [-3  9] end_point [0 0] curve_cordinates [-2  4] dist 0.6324555320336759 flag False\n",
      "Split algo start_point [-3  9] end_point [0 0] curve_cordinates [-1  1] dist 0.6324555320336759 flag False\n",
      "Stack Index: 10\n",
      "poped 10\n",
      "Split algo start_point [-2  4] end_point [0 0] curve_cordinates [-1  1] dist 0.4472135954999579 flag False\n",
      "poped 20\n",
      "Split algo start_point [0 0] end_point [ 10 100] curve_cordinates [1 1] dist 0.8955334711889903 flag False\n",
      "Split algo start_point [0 0] end_point [ 10 100] curve_cordinates [2 4] dist 1.5920595043359826 flag False\n",
      "Split algo start_point [0 0] end_point [ 10 100] curve_cordinates [3 9] dist 2.089578099440977 flag False\n",
      "Split algo start_point [0 0] end_point [ 10 100] curve_cordinates [ 4 16] dist 2.388089256503974 flag False\n",
      "Split algo start_point [0 0] end_point [ 10 100] curve_cordinates [ 5 25] dist 2.487592975524973 flag False\n",
      "Split algo start_point [0 0] end_point [ 10 100] curve_cordinates [ 6 36] dist 2.388089256503974 flag False\n",
      "Split algo start_point [0 0] end_point [ 10 100] curve_cordinates [ 7 49] dist 2.089578099440977 flag False\n",
      "Split algo start_point [0 0] end_point [ 10 100] curve_cordinates [ 8 64] dist 1.5920595043359826 flag False\n",
      "Split algo start_point [0 0] end_point [ 10 100] curve_cordinates [ 9 81] dist 0.8955334711889903 flag False\n",
      "Stack Index: 20\n",
      "Split algo start_point [0 0] end_point [ 5 25] curve_cordinates [1 1] dist 0.7844645405527362 flag True\n",
      "Split algo start_point [0 0] end_point [ 5 25] curve_cordinates [2 4] dist 1.1766968108291043 flag True\n",
      "Split algo start_point [0 0] end_point [ 5 25] curve_cordinates [3 9] dist 1.1766968108291043 flag True\n",
      "Split algo start_point [0 0] end_point [ 5 25] curve_cordinates [ 4 16] dist 0.7844645405527362 flag True\n",
      "Stack Index: 15\n",
      "Split algo start_point [0 0] end_point [2 4] curve_cordinates [1 1] dist 0.4472135954999579 flag True\n",
      "poped 15\n",
      "Split algo start_point [2 4] end_point [ 5 25] curve_cordinates [3 9] dist 0.282842712474619 flag False\n",
      "Split algo start_point [2 4] end_point [ 5 25] curve_cordinates [ 4 16] dist 0.282842712474619 flag False\n",
      "poped 20\n",
      "Split algo start_point [ 5 25] end_point [ 10 100] curve_cordinates [ 6 36] dist 0.2660760420950957 flag False\n",
      "Split algo start_point [ 5 25] end_point [ 10 100] curve_cordinates [ 7 49] dist 0.3991140631426436 flag False\n",
      "Split algo start_point [ 5 25] end_point [ 10 100] curve_cordinates [ 8 64] dist 0.3991140631426436 flag False\n",
      "Split algo start_point [ 5 25] end_point [ 10 100] curve_cordinates [ 9 81] dist 0.2660760420950957 flag False\n"
     ]
    }
   ],
   "source": [
    "# Call the split and merge algorithm with start and end points\n",
    "start_index = 0\n",
    "end_index = len(curve_cordinates)-1\n",
    "\n",
    "start_point = curve_cordinates[0]\n",
    "end_point = curve_cordinates[end_index]\n",
    "\n",
    "split_points_x.append(int(curve_cordinates[0][0]))\n",
    "split_points_y.append(int(curve_cordinates[0][1]))\n",
    "\n",
    "split_algorithm(curve_cordinates,start_index, end_index, True)\n",
    "\n",
    "split_points_x.append(int(curve_cordinates[end_index][0]))\n",
    "split_points_y.append(int(curve_cordinates[end_index][1]))"
   ]
  },
  {
   "cell_type": "code",
   "execution_count": 89,
   "id": "b3c01467",
   "metadata": {},
   "outputs": [],
   "source": [
    "split_cordinates = create_cordinates(np.array(split_points_x),np.array(split_points_y))"
   ]
  },
  {
   "cell_type": "code",
   "execution_count": 90,
   "id": "be0c56e3",
   "metadata": {},
   "outputs": [
    {
     "data": {
      "image/png": "[encoded data removed]",
      "text/plain": [
       "<Figure size 432x288 with 1 Axes>"
      ]
     },
     "metadata": {
      "needs_background": "light"
     },
     "output_type": "display_data"
    }
   ],
   "source": [
    "plot_curve(curve_cordinates,False)\n",
    "plot_curve(split_cordinates,True)"
   ]
  },
  {
   "cell_type": "code",
   "execution_count": 91,
   "id": "d8365b64",
   "metadata": {},
   "outputs": [
    {
     "name": "stdout",
     "output_type": "stream",
     "text": [
      "[[-10 100]\n",
      " [  0   0]\n",
      " [ -5  25]\n",
      " [ -3   9]\n",
      " [ -2   4]\n",
      " [  5  25]\n",
      " [  2   4]\n",
      " [ 10 100]]\n"
     ]
    }
   ],
   "source": [
    "print(split_cordinates)"
   ]
  },
  {
   "cell_type": "code",
   "execution_count": 77,
   "id": "58e71e2a",
   "metadata": {},
   "outputs": [
    {
     "name": "stdout",
     "output_type": "stream",
     "text": [
      "[[-10 100]\n",
      " [ -9  81]\n",
      " [ -8  64]\n",
      " [ -7  49]\n",
      " [ -6  36]\n",
      " [ -5  25]\n",
      " [ -4  16]\n",
      " [ -3   9]\n",
      " [ -2   4]\n",
      " [ -1   1]\n",
      " [  0   0]\n",
      " [  1   1]\n",
      " [  2   4]\n",
      " [  3   9]\n",
      " [  4  16]\n",
      " [  5  25]\n",
      " [  6  36]\n",
      " [  7  49]\n",
      " [  8  64]\n",
      " [  9  81]\n",
      " [ 10 100]]\n"
     ]
    }
   ],
   "source": [
    "print(curve_cordinates)"
   ]
  },
  {
   "cell_type": "code",
   "execution_count": 92,
   "id": "d87837b9",
   "metadata": {},
   "outputs": [
    {
     "name": "stdout",
     "output_type": "stream",
     "text": [
      "[[], array([-10, 100]), array([-9, 81])]\n",
      "[-10 100]\n"
     ]
    }
   ],
   "source": [
    "stack = [[ ]]\n",
    "stack.append(curve_cordinates[0])\n",
    "stack.append(curve_cordinates[1])\n",
    "print(stack)\n",
    "print(curve_cordinates[0])"
   ]
  },
  {
   "cell_type": "code",
   "execution_count": null,
   "id": "506b52fb",
   "metadata": {},
   "outputs": [],
   "source": [
    "def insert_sorted(seq, elt):\n",
    "    \"\"\"inserts elt at the correct place in seq, to keep it in sorted order\n",
    "    :param seq: A sorted list\n",
    "    :param elt: An element comparable to the content of seq\n",
    "    Effect: mutates the param seq.\n",
    "    Does not return a result\n",
    "    \"\"\"\n",
    "    idx = 0\n",
    "    if not seq or elt > seq[-1]:\n",
    "        seq.append(elt)\n",
    "    else:\n",
    "        while elt > seq[idx] and idx < len(seq):\n",
    "            idx += 1\n",
    "        seq.insert(idx, elt)"
   ]
  },
  {
   "cell_type": "code",
   "execution_count": 235,
   "id": "b36166ef",
   "metadata": {},
   "outputs": [
    {
     "name": "stdout",
     "output_type": "stream",
     "text": [
      "<built-in method pop of list object at 0x00000205F5945E40>\n"
     ]
    }
   ],
   "source": [
    "print (stack.pop)"
   ]
  },
  {
   "cell_type": "code",
   "execution_count": 237,
   "id": "5f0b2224",
   "metadata": {},
   "outputs": [
    {
     "name": "stdout",
     "output_type": "stream",
     "text": [
      "(2,)\n"
     ]
    }
   ],
   "source": [
    "print(curve_cordinates[0].shape)"
   ]
  },
  {
   "cell_type": "code",
   "execution_count": 238,
   "id": "e65014c4",
   "metadata": {},
   "outputs": [
    {
     "name": "stdout",
     "output_type": "stream",
     "text": [
      "[-10 100]\n"
     ]
    }
   ],
   "source": [
    "print(curve_cordinates[0])"
   ]
  },
  {
   "cell_type": "code",
   "execution_count": 244,
   "id": "a65f1859",
   "metadata": {},
   "outputs": [
    {
     "name": "stdout",
     "output_type": "stream",
     "text": [
      "<class 'list'>\n"
     ]
    }
   ],
   "source": [
    "el = [[]]\n",
    "print (type(el))"
   ]
  },
  {
   "cell_type": "code",
   "execution_count": 342,
   "id": "ba348ec8",
   "metadata": {},
   "outputs": [],
   "source": [
    "stack_x = []\n",
    "stack_y = []\n",
    "\n",
    "stack_x.append(curve_cordinates[0][0])\n",
    "stack_y.append(curve_cordinates[0][1])"
   ]
  },
  {
   "cell_type": "code",
   "execution_count": 343,
   "id": "7d529cec",
   "metadata": {},
   "outputs": [
    {
     "data": {
      "text/plain": [
       "[-10]"
      ]
     },
     "execution_count": 343,
     "metadata": {},
     "output_type": "execute_result"
    }
   ],
   "source": [
    "stack_x"
   ]
  },
  {
   "cell_type": "code",
   "execution_count": 344,
   "id": "9b8c2907",
   "metadata": {},
   "outputs": [
    {
     "data": {
      "text/plain": [
       "[100]"
      ]
     },
     "execution_count": 344,
     "metadata": {},
     "output_type": "execute_result"
    }
   ],
   "source": [
    "stack_y"
   ]
  },
  {
   "cell_type": "code",
   "execution_count": 345,
   "id": "a4030ed6",
   "metadata": {},
   "outputs": [
    {
     "ename": "TypeError",
     "evalue": "'numpy.int32' object is not iterable",
     "output_type": "error",
     "traceback": [
      "\u001b[1;31m---------------------------------------------------------------------------\u001b[0m",
      "\u001b[1;31mTypeError\u001b[0m                                 Traceback (most recent call last)",
      "Input \u001b[1;32mIn [345]\u001b[0m, in \u001b[0;36m<cell line: 6>\u001b[1;34m()\u001b[0m\n\u001b[0;32m      3\u001b[0m tmp_x\u001b[38;5;241m.\u001b[39mappend(\u001b[38;5;241m0.1\u001b[39m)\n\u001b[0;32m      4\u001b[0m tmp_y\u001b[38;5;241m.\u001b[39mappend(\u001b[38;5;241m0.1\u001b[39m)\n\u001b[1;32m----> 6\u001b[0m create_cordinates(np\u001b[38;5;241m.\u001b[39marray(\u001b[38;5;28;43mlist\u001b[39;49m\u001b[43m(\u001b[49m\u001b[43mstack_x\u001b[49m\u001b[38;5;241;43m.\u001b[39;49m\u001b[43mpop\u001b[49m\u001b[43m(\u001b[49m\u001b[43m)\u001b[49m\u001b[43m)\u001b[49m),np\u001b[38;5;241m.\u001b[39marray(\u001b[38;5;28mlist\u001b[39m(stack_y\u001b[38;5;241m.\u001b[39mpop())))\n",
      "\u001b[1;31mTypeError\u001b[0m: 'numpy.int32' object is not iterable"
     ]
    }
   ],
   "source": [
    "tmp_x = []\n",
    "tmp_y = []\n",
    "tmp_x.append(0.1)\n",
    "tmp_y.append(0.1)\n",
    "\n",
    "create_cordinates(np.array(list(stack_x.pop())),np.array(list(stack_y.pop())))"
   ]
  },
  {
   "cell_type": "code",
   "execution_count": 360,
   "id": "8dc3bbd8",
   "metadata": {},
   "outputs": [
    {
     "data": {
      "text/plain": [
       "5"
      ]
     },
     "execution_count": 360,
     "metadata": {},
     "output_type": "execute_result"
    }
   ],
   "source": [
    "stack = []\n",
    "stack.append(5)\n",
    "stack.pop()"
   ]
  },
  {
   "cell_type": "code",
   "execution_count": null,
   "id": "8581eaa6",
   "metadata": {},
   "outputs": [],
   "source": [
    "list "
   ]
  }
 ],
 "metadata": {
  "kernelspec": {
   "display_name": "Python 3 (ipykernel)",
   "language": "python",
   "name": "python3"
  },
  "language_info": {
   "codemirror_mode": {
    "name": "ipython",
    "version": 3
   },
   "file_extension": ".py",
   "mimetype": "text/x-python",
   "name": "python",
   "nbconvert_exporter": "python",
   "pygments_lexer": "ipython3",
   "version": "3.9.12"
  }
 },
 "nbformat": 4,
 "nbformat_minor": 5
}
